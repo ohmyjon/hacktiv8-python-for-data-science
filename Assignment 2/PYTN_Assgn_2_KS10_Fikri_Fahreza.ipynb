{
  "cells": [
    {
      "cell_type": "markdown",
      "metadata": {
        "id": "2GgG9XS3xXeQ"
      },
      "source": [
        "# **Python for Data Science Assignment 2 - NYC Property Sales Analysis**\n",
        "\n",
        "Fikri Fahreza\n",
        "\n",
        "KS10-015\n"
      ]
    },
    {
      "cell_type": "markdown",
      "metadata": {
        "id": "teQ-blxfx26c"
      },
      "source": [
        "---"
      ]
    },
    {
      "cell_type": "markdown",
      "metadata": {
        "id": "GdObwhmlbe1E"
      },
      "source": [
        "## **Download dataset**"
      ]
    },
    {
      "cell_type": "code",
      "execution_count": 1,
      "metadata": {
        "colab": {
          "base_uri": "https://localhost:8080/"
        },
        "id": "ncqvw-MFfr0K",
        "outputId": "d61b2b7f-145a-41f6-f690-adb8712b9128"
      },
      "outputs": [
        {
          "name": "stdout",
          "output_type": "stream",
          "text": [
            "Looking in indexes: https://pypi.org/simple, https://us-python.pkg.dev/colab-wheels/public/simple/\n",
            "Requirement already satisfied: kaggle in /usr/local/lib/python3.7/dist-packages (1.5.12)\n",
            "Requirement already satisfied: python-dateutil in /usr/local/lib/python3.7/dist-packages (from kaggle) (2.8.2)\n",
            "Requirement already satisfied: requests in /usr/local/lib/python3.7/dist-packages (from kaggle) (2.23.0)\n",
            "Requirement already satisfied: tqdm in /usr/local/lib/python3.7/dist-packages (from kaggle) (4.64.1)\n",
            "Requirement already satisfied: python-slugify in /usr/local/lib/python3.7/dist-packages (from kaggle) (6.1.2)\n",
            "Requirement already satisfied: urllib3 in /usr/local/lib/python3.7/dist-packages (from kaggle) (1.24.3)\n",
            "Requirement already satisfied: certifi in /usr/local/lib/python3.7/dist-packages (from kaggle) (2022.6.15)\n",
            "Requirement already satisfied: six>=1.10 in /usr/local/lib/python3.7/dist-packages (from kaggle) (1.15.0)\n",
            "Requirement already satisfied: text-unidecode>=1.3 in /usr/local/lib/python3.7/dist-packages (from python-slugify->kaggle) (1.3)\n",
            "Requirement already satisfied: chardet<4,>=3.0.2 in /usr/local/lib/python3.7/dist-packages (from requests->kaggle) (3.0.4)\n",
            "Requirement already satisfied: idna<3,>=2.5 in /usr/local/lib/python3.7/dist-packages (from requests->kaggle) (2.10)\n"
          ]
        }
      ],
      "source": [
        "# Install kaggle\n",
        "! pip install kaggle"
      ]
    },
    {
      "cell_type": "code",
      "execution_count": 2,
      "metadata": {
        "id": "OG9mBC2blKh-"
      },
      "outputs": [],
      "source": [
        "! mkdir ~/.kaggle"
      ]
    },
    {
      "cell_type": "code",
      "execution_count": 3,
      "metadata": {
        "colab": {
          "base_uri": "https://localhost:8080/"
        },
        "id": "OvVMdYr1JOIa",
        "outputId": "15123e49-b9c6-49d0-f579-136871799567"
      },
      "outputs": [
        {
          "name": "stdout",
          "output_type": "stream",
          "text": [
            "Mounted at /content/drive\n"
          ]
        }
      ],
      "source": [
        "# Mount google colab dengan drive untuk mengambil API Kaggle\n",
        "from google.colab import drive\n",
        "drive.mount('/content/drive')"
      ]
    },
    {
      "cell_type": "code",
      "execution_count": 4,
      "metadata": {
        "id": "wEP05da7lrfW"
      },
      "outputs": [],
      "source": [
        "!cp /content/drive/MyDrive/Kaggle/kaggle.json ~/.kaggle/kaggle.json"
      ]
    },
    {
      "cell_type": "code",
      "execution_count": 5,
      "metadata": {
        "colab": {
          "base_uri": "https://localhost:8080/"
        },
        "id": "0Wq3SY99mtNW",
        "outputId": "1954e89e-2e48-48b2-e424-07d9f4474a0a"
      },
      "outputs": [
        {
          "name": "stdout",
          "output_type": "stream",
          "text": [
            "Downloading nyc-property-sales.zip to /content\n",
            "\r  0% 0.00/1.81M [00:00<?, ?B/s]\n",
            "\r100% 1.81M/1.81M [00:00<00:00, 120MB/s]\n"
          ]
        }
      ],
      "source": [
        "# Download dataset dari kaggle\n",
        "!kaggle datasets download -d new-york-city/nyc-property-sales"
      ]
    },
    {
      "cell_type": "code",
      "execution_count": 6,
      "metadata": {
        "colab": {
          "base_uri": "https://localhost:8080/"
        },
        "id": "6NQm5oCqVNEW",
        "outputId": "1f30d40c-2178-44bc-e2a6-fe4095e963e8"
      },
      "outputs": [
        {
          "name": "stdout",
          "output_type": "stream",
          "text": [
            "Archive:  nyc-property-sales.zip\n",
            "  inflating: nyc-rolling-sales.csv   \n"
          ]
        }
      ],
      "source": [
        "# Ekstrak zip\n",
        "!unzip nyc-property-sales.zip"
      ]
    },
    {
      "cell_type": "markdown",
      "metadata": {
        "id": "f1aufWqbVrcM"
      },
      "source": [
        "# **Pengenalan**\n",
        "Halo! Nama saya Fikri Fahreza, ini adalah tugas kedua saya yang dipublikasi, dengan menggunakan NYC Property Sales Dataset dari Kaggle.\n",
        "\n",
        "Saya berharap dari tugas ini bisa menghasilkan *feedback* atau komentar tentang analisis ini.\n",
        "\n",
        "LinkedIn: https://www.linkedin.com/in/fikri-fahreza/"
      ]
    },
    {
      "cell_type": "markdown",
      "metadata": {
        "id": "hnf3_wzXWYLP"
      },
      "source": [
        "# **Daftar isi:**\n",
        "\n",
        "\n",
        "1.   [Konteks](#scrollTo=4F0a2HWnWfFT)\n",
        "2.   [Data Preprocessing](#scrollTo=8Ac1ac3-pQnb)\n",
        "3.   [Data Analysis](#scrollTo=gJr-USMtwTWw)\n",
        "4.   [Kesimpulan](#scrollTo=u7mq6A9itf4Q)"
      ]
    },
    {
      "cell_type": "markdown",
      "metadata": {
        "id": "dPp72bG8x1D7"
      },
      "source": [
        "---"
      ]
    },
    {
      "cell_type": "markdown",
      "metadata": {
        "id": "4F0a2HWnWfFT"
      },
      "source": [
        "# **1. Konteks**\n",
        "Dataset ini adalah catatan setiap bangunan atau unit bangunan (apartemen, dll.) yang terjual di pasar properti New York City selama periode 12 bulan (1 September 2016 - 31 Agustus 2017). Data ini berasal dari Kaggle, lebih tepatnya pada link berikut ini: https://www.kaggle.com/datasets/new-york-city/nyc-property-sales"
      ]
    },
    {
      "cell_type": "markdown",
      "metadata": {
        "id": "yTN1ImeGXLcT"
      },
      "source": [
        "## **1.1. Atribut dari data**\n",
        "* `BOROUGH`: Nama wilayah.\n",
        "* `NEIGHBORHOOD`: Nama lingkungan (daerah sekitar).\n",
        "* `BUILDING CLASS CATEGORY`: Kategori kelas bangunan.\n",
        "* `TAX CLASS AT PRESENT` : Kategori kelas pajak (berdasarkan kegunaan properti).\n",
        "* `BLOCK`: Merupakan sub-divisi dari **BOROUGH** yang merepresentasikan lokasi asli terkait letak properti, digunakan untuk membedakan sebuah unit dengan unit lainnya.\n",
        "* `LOT`: Merupakan sub-divisi dari **BLOCK** yang merepresentasikan lokasi unik terkait letak properti, digunakan untuk membedakan sebuah unit dengan unit lainnya.\n",
        "* `EASEMENT`: Merupakan hak, seperti hak jalan, yang memungkinkan entitas untuk menggunakan properti orang lain secara terbatas. Misalnya: rel kereta api yang melintasi sebagian properti lain.\n",
        "* `BUILDING CLASS AT PRESENT`: Klasifikasi bangunan yang digunakan untuk mendeskripsikan penggunaan konstruktif bangunan.\n",
        "* `ADDRESS`: Nama jalan.\n",
        "* `ZIP CODE`: Kode pos.\n",
        "* `RESIDENTIAL UNITS`: Jumlah unit residential di properti yang terdaftar.\n",
        "* `COMMERCIAL UNITS`: Jumlah unit commercial di properti yang terdaftar.\n",
        "* `TOTAL UNITS`: Total unit di properti yang terdaftar.\n",
        "* `LAND SQUARE FEET`: Luas tanah properti yang terdaftar (dalam satuan square feet).\n",
        "* `GROSS SQUARE FEET`: Luas total semua lantai bangunan yang diukur dari permukaan luar dinding luar bangunan, termasuk luas tanah dan ruang di dalam bangunan atau struktur apa pun pada properti (dalam satuan square feet).\n",
        "* `YEAR BUILT`: Tahun terkait struktur properti tersebut dibangun.\n",
        "* `BULDING CLASS AT TIME OF SALE`: Klasifikasi bangunan yang digunakan untuk mendeskripsikan penggunaan konstruktif bangunan.\n",
        "* `SALES PRICE`: Harga yang dibayarkan untuk properti.\n",
        "* `SALE DATA`: Tanggal properti terjual.\n",
        "\n",
        "**INFO**\n",
        "* BOROUGH: Kode digit untuk wilayah tempat properti berada; dalam urutan ini adalah Manhattan (1), Bronx (2), Brooklyn (3), Queens (4), dan Staten Island (5).\n",
        "* BLOCK; LOT: Kombinasi borough, block, dan lot membentuk *unique key* untuk properti di New York City. Umumnya disebut BBL.\n",
        "* BUILDING CLASS AT PRESENT and BUILDING CLASS AT TIME OF SALE: Jenis bangunan di berbagai titik waktu..\n",
        "\n",
        "**CATATAN**\n",
        "- Banyak penjualan terjadi dengan jumlah harga yang sangat kecil: $0 paling umum. Penjualan ini sebenarnya adalah transfer akta antar pihak: misalnya, orang tua mentransfer kepemilikan rumah mereka kepada seorang anak setelah pindah untuk pensiun. \n",
        "- Dataset ini menggunakan definisi keuangan dari sebuah bangunan/unit bangunan, untuk tujuan perpajakan. Dalam hal, satu entitas memiliki bangunan yang bersangkutan, penjualan mencakup nilai seluruh bangunan. Dalam hal sebuah bangunan dimiliki sedikit demi sedikit oleh penghuninya (kondominium), penjualan mengacu pada satu apartemen (atau sekelompok apartemen) yang dimiliki oleh beberapa individu."
      ]
    },
    {
      "cell_type": "markdown",
      "metadata": {
        "id": "OzqlJuE5ZyqC"
      },
      "source": [
        "## **1.2. Tujuan analisis**\n",
        "\n",
        "Merumuskan pertanyaan untuk menjawab pertanyaan terkait dan membuat hipotesis untuk membuktikannya."
      ]
    },
    {
      "cell_type": "markdown",
      "metadata": {
        "id": "cfE4gl3xcS8Y"
      },
      "source": [
        "## **1.3. Pertanyaan**\n",
        "\n",
        "1. `Berapakah harga jual properti yang terdapat pada masing-masing wilayah? (Measure of Central Tedency : Median)`\n",
        "2. `Berapakah rata-rata luas tanah yang banyak terjual di wilayah Bronx? (Measure of Central Tedency : Mean)`\n",
        "3. `Properti yang dibangun tahun berapakah yang banyak terjual di wilayah Staten Island? (Measure of Central Tedency : Modus)`\n",
        "4. `Berapakah rentang harga properti di daerah Alphabet City? (Measured of Spread : Range)`\n",
        "5. `Berapa nilai variance dari luas tanah di daerah Alphabet City (Measured of Spread : Variance)`\n",
        "6. `Berapa nilai standard deviation dari luas tanah di daerah Alphabet City (Measured of Spread : Standard Deviation)`\n",
        "7. `Bagaimana distribusi harga jual di daerah Alphabet City? (Probability Distribution)`\n",
        "8. `Bagaimana confidence interval untuk harga jual di daerah Alphabet City (Confidence Interval)`\n",
        "9. `Apakah ada hubungan antara SALE PRICE dan LAND SQUARE FEET (Hypothesis Testing)`"
      ]
    },
    {
      "cell_type": "markdown",
      "metadata": {
        "id": "4tX-lJGVweXj"
      },
      "source": [
        "\n",
        "\n",
        "---\n",
        "\n"
      ]
    },
    {
      "cell_type": "markdown",
      "metadata": {
        "id": "8Ac1ac3-pQnb"
      },
      "source": [
        "# **2. Data Preprocessing**\n",
        "\n",
        "Pada bagian ini, kita akan melakukan import data, transformasi, dan lain sebagainya. Tujuannya agar data sudah siap kita olah, *yummy!*"
      ]
    },
    {
      "cell_type": "markdown",
      "metadata": {
        "id": "yV2_29EnrV5k"
      },
      "source": [
        "## **2.1. Import data dan library**"
      ]
    },
    {
      "cell_type": "code",
      "execution_count": 7,
      "metadata": {
        "id": "h44AOYjepd1e"
      },
      "outputs": [],
      "source": [
        "import pandas as pd\n",
        "import matplotlib.pyplot as plt\n",
        "import seaborn as sns\n",
        "import numpy as np\n",
        "from scipy import stats"
      ]
    },
    {
      "cell_type": "code",
      "execution_count": 8,
      "metadata": {
        "id": "YsZtcVfZqLbW"
      },
      "outputs": [],
      "source": [
        "# Membaca CSV ke DataFrame\n",
        "df = pd.read_csv(\"nyc-rolling-sales.csv\")"
      ]
    },
    {
      "cell_type": "markdown",
      "metadata": {
        "id": "1MAPNYgHrJ9g"
      },
      "source": [
        "## **2.2. Memeriksa dan bersihkan data**\n",
        "\n",
        "Kita akan memeriksa data, jika terdapat *missing values* atau terdapat bagian tidak sesuai dengan yang kita harapkan, maka bisa langsung kita bersihkan, untuk menghindari hasil analisa yang *bias* atau *unfair*. \n",
        "\n",
        "*Garbage In Garbage Out!*"
      ]
    },
    {
      "cell_type": "code",
      "execution_count": 9,
      "metadata": {
        "colab": {
          "base_uri": "https://localhost:8080/",
          "height": 629
        },
        "id": "eX-f_vkuqRLe",
        "outputId": "28e13778-010c-43df-d9f9-bc2d40ddbf42"
      },
      "outputs": [
        {
          "data": {
            "text/html": [
              "\n",
              "  <div id=\"df-f2271c69-8baa-4a71-8055-6f15f1fef6c8\">\n",
              "    <div class=\"colab-df-container\">\n",
              "      <div>\n",
              "<style scoped>\n",
              "    .dataframe tbody tr th:only-of-type {\n",
              "        vertical-align: middle;\n",
              "    }\n",
              "\n",
              "    .dataframe tbody tr th {\n",
              "        vertical-align: top;\n",
              "    }\n",
              "\n",
              "    .dataframe thead th {\n",
              "        text-align: right;\n",
              "    }\n",
              "</style>\n",
              "<table border=\"1\" class=\"dataframe\">\n",
              "  <thead>\n",
              "    <tr style=\"text-align: right;\">\n",
              "      <th></th>\n",
              "      <th>Unnamed: 0</th>\n",
              "      <th>BOROUGH</th>\n",
              "      <th>NEIGHBORHOOD</th>\n",
              "      <th>BUILDING CLASS CATEGORY</th>\n",
              "      <th>TAX CLASS AT PRESENT</th>\n",
              "      <th>BLOCK</th>\n",
              "      <th>LOT</th>\n",
              "      <th>EASE-MENT</th>\n",
              "      <th>BUILDING CLASS AT PRESENT</th>\n",
              "      <th>ADDRESS</th>\n",
              "      <th>...</th>\n",
              "      <th>RESIDENTIAL UNITS</th>\n",
              "      <th>COMMERCIAL UNITS</th>\n",
              "      <th>TOTAL UNITS</th>\n",
              "      <th>LAND SQUARE FEET</th>\n",
              "      <th>GROSS SQUARE FEET</th>\n",
              "      <th>YEAR BUILT</th>\n",
              "      <th>TAX CLASS AT TIME OF SALE</th>\n",
              "      <th>BUILDING CLASS AT TIME OF SALE</th>\n",
              "      <th>SALE PRICE</th>\n",
              "      <th>SALE DATE</th>\n",
              "    </tr>\n",
              "  </thead>\n",
              "  <tbody>\n",
              "    <tr>\n",
              "      <th>0</th>\n",
              "      <td>4</td>\n",
              "      <td>1</td>\n",
              "      <td>ALPHABET CITY</td>\n",
              "      <td>07 RENTALS - WALKUP APARTMENTS</td>\n",
              "      <td>2A</td>\n",
              "      <td>392</td>\n",
              "      <td>6</td>\n",
              "      <td></td>\n",
              "      <td>C2</td>\n",
              "      <td>153 AVENUE B</td>\n",
              "      <td>...</td>\n",
              "      <td>5</td>\n",
              "      <td>0</td>\n",
              "      <td>5</td>\n",
              "      <td>1633</td>\n",
              "      <td>6440</td>\n",
              "      <td>1900</td>\n",
              "      <td>2</td>\n",
              "      <td>C2</td>\n",
              "      <td>6625000</td>\n",
              "      <td>2017-07-19 00:00:00</td>\n",
              "    </tr>\n",
              "    <tr>\n",
              "      <th>1</th>\n",
              "      <td>5</td>\n",
              "      <td>1</td>\n",
              "      <td>ALPHABET CITY</td>\n",
              "      <td>07 RENTALS - WALKUP APARTMENTS</td>\n",
              "      <td>2</td>\n",
              "      <td>399</td>\n",
              "      <td>26</td>\n",
              "      <td></td>\n",
              "      <td>C7</td>\n",
              "      <td>234 EAST 4TH   STREET</td>\n",
              "      <td>...</td>\n",
              "      <td>28</td>\n",
              "      <td>3</td>\n",
              "      <td>31</td>\n",
              "      <td>4616</td>\n",
              "      <td>18690</td>\n",
              "      <td>1900</td>\n",
              "      <td>2</td>\n",
              "      <td>C7</td>\n",
              "      <td>-</td>\n",
              "      <td>2016-12-14 00:00:00</td>\n",
              "    </tr>\n",
              "    <tr>\n",
              "      <th>2</th>\n",
              "      <td>6</td>\n",
              "      <td>1</td>\n",
              "      <td>ALPHABET CITY</td>\n",
              "      <td>07 RENTALS - WALKUP APARTMENTS</td>\n",
              "      <td>2</td>\n",
              "      <td>399</td>\n",
              "      <td>39</td>\n",
              "      <td></td>\n",
              "      <td>C7</td>\n",
              "      <td>197 EAST 3RD   STREET</td>\n",
              "      <td>...</td>\n",
              "      <td>16</td>\n",
              "      <td>1</td>\n",
              "      <td>17</td>\n",
              "      <td>2212</td>\n",
              "      <td>7803</td>\n",
              "      <td>1900</td>\n",
              "      <td>2</td>\n",
              "      <td>C7</td>\n",
              "      <td>-</td>\n",
              "      <td>2016-12-09 00:00:00</td>\n",
              "    </tr>\n",
              "    <tr>\n",
              "      <th>3</th>\n",
              "      <td>7</td>\n",
              "      <td>1</td>\n",
              "      <td>ALPHABET CITY</td>\n",
              "      <td>07 RENTALS - WALKUP APARTMENTS</td>\n",
              "      <td>2B</td>\n",
              "      <td>402</td>\n",
              "      <td>21</td>\n",
              "      <td></td>\n",
              "      <td>C4</td>\n",
              "      <td>154 EAST 7TH STREET</td>\n",
              "      <td>...</td>\n",
              "      <td>10</td>\n",
              "      <td>0</td>\n",
              "      <td>10</td>\n",
              "      <td>2272</td>\n",
              "      <td>6794</td>\n",
              "      <td>1913</td>\n",
              "      <td>2</td>\n",
              "      <td>C4</td>\n",
              "      <td>3936272</td>\n",
              "      <td>2016-09-23 00:00:00</td>\n",
              "    </tr>\n",
              "    <tr>\n",
              "      <th>4</th>\n",
              "      <td>8</td>\n",
              "      <td>1</td>\n",
              "      <td>ALPHABET CITY</td>\n",
              "      <td>07 RENTALS - WALKUP APARTMENTS</td>\n",
              "      <td>2A</td>\n",
              "      <td>404</td>\n",
              "      <td>55</td>\n",
              "      <td></td>\n",
              "      <td>C2</td>\n",
              "      <td>301 EAST 10TH   STREET</td>\n",
              "      <td>...</td>\n",
              "      <td>6</td>\n",
              "      <td>0</td>\n",
              "      <td>6</td>\n",
              "      <td>2369</td>\n",
              "      <td>4615</td>\n",
              "      <td>1900</td>\n",
              "      <td>2</td>\n",
              "      <td>C2</td>\n",
              "      <td>8000000</td>\n",
              "      <td>2016-11-17 00:00:00</td>\n",
              "    </tr>\n",
              "  </tbody>\n",
              "</table>\n",
              "<p>5 rows × 22 columns</p>\n",
              "</div>\n",
              "      <button class=\"colab-df-convert\" onclick=\"convertToInteractive('df-f2271c69-8baa-4a71-8055-6f15f1fef6c8')\"\n",
              "              title=\"Convert this dataframe to an interactive table.\"\n",
              "              style=\"display:none;\">\n",
              "        \n",
              "  <svg xmlns=\"http://www.w3.org/2000/svg\" height=\"24px\"viewBox=\"0 0 24 24\"\n",
              "       width=\"24px\">\n",
              "    <path d=\"M0 0h24v24H0V0z\" fill=\"none\"/>\n",
              "    <path d=\"M18.56 5.44l.94 2.06.94-2.06 2.06-.94-2.06-.94-.94-2.06-.94 2.06-2.06.94zm-11 1L8.5 8.5l.94-2.06 2.06-.94-2.06-.94L8.5 2.5l-.94 2.06-2.06.94zm10 10l.94 2.06.94-2.06 2.06-.94-2.06-.94-.94-2.06-.94 2.06-2.06.94z\"/><path d=\"M17.41 7.96l-1.37-1.37c-.4-.4-.92-.59-1.43-.59-.52 0-1.04.2-1.43.59L10.3 9.45l-7.72 7.72c-.78.78-.78 2.05 0 2.83L4 21.41c.39.39.9.59 1.41.59.51 0 1.02-.2 1.41-.59l7.78-7.78 2.81-2.81c.8-.78.8-2.07 0-2.86zM5.41 20L4 18.59l7.72-7.72 1.47 1.35L5.41 20z\"/>\n",
              "  </svg>\n",
              "      </button>\n",
              "      \n",
              "  <style>\n",
              "    .colab-df-container {\n",
              "      display:flex;\n",
              "      flex-wrap:wrap;\n",
              "      gap: 12px;\n",
              "    }\n",
              "\n",
              "    .colab-df-convert {\n",
              "      background-color: #E8F0FE;\n",
              "      border: none;\n",
              "      border-radius: 50%;\n",
              "      cursor: pointer;\n",
              "      display: none;\n",
              "      fill: #1967D2;\n",
              "      height: 32px;\n",
              "      padding: 0 0 0 0;\n",
              "      width: 32px;\n",
              "    }\n",
              "\n",
              "    .colab-df-convert:hover {\n",
              "      background-color: #E2EBFA;\n",
              "      box-shadow: 0px 1px 2px rgba(60, 64, 67, 0.3), 0px 1px 3px 1px rgba(60, 64, 67, 0.15);\n",
              "      fill: #174EA6;\n",
              "    }\n",
              "\n",
              "    [theme=dark] .colab-df-convert {\n",
              "      background-color: #3B4455;\n",
              "      fill: #D2E3FC;\n",
              "    }\n",
              "\n",
              "    [theme=dark] .colab-df-convert:hover {\n",
              "      background-color: #434B5C;\n",
              "      box-shadow: 0px 1px 3px 1px rgba(0, 0, 0, 0.15);\n",
              "      filter: drop-shadow(0px 1px 2px rgba(0, 0, 0, 0.3));\n",
              "      fill: #FFFFFF;\n",
              "    }\n",
              "  </style>\n",
              "\n",
              "      <script>\n",
              "        const buttonEl =\n",
              "          document.querySelector('#df-f2271c69-8baa-4a71-8055-6f15f1fef6c8 button.colab-df-convert');\n",
              "        buttonEl.style.display =\n",
              "          google.colab.kernel.accessAllowed ? 'block' : 'none';\n",
              "\n",
              "        async function convertToInteractive(key) {\n",
              "          const element = document.querySelector('#df-f2271c69-8baa-4a71-8055-6f15f1fef6c8');\n",
              "          const dataTable =\n",
              "            await google.colab.kernel.invokeFunction('convertToInteractive',\n",
              "                                                     [key], {});\n",
              "          if (!dataTable) return;\n",
              "\n",
              "          const docLinkHtml = 'Like what you see? Visit the ' +\n",
              "            '<a target=\"_blank\" href=https://colab.research.google.com/notebooks/data_table.ipynb>data table notebook</a>'\n",
              "            + ' to learn more about interactive tables.';\n",
              "          element.innerHTML = '';\n",
              "          dataTable['output_type'] = 'display_data';\n",
              "          await google.colab.output.renderOutput(dataTable, element);\n",
              "          const docLink = document.createElement('div');\n",
              "          docLink.innerHTML = docLinkHtml;\n",
              "          element.appendChild(docLink);\n",
              "        }\n",
              "      </script>\n",
              "    </div>\n",
              "  </div>\n",
              "  "
            ],
            "text/plain": [
              "   Unnamed: 0  BOROUGH   NEIGHBORHOOD  \\\n",
              "0           4        1  ALPHABET CITY   \n",
              "1           5        1  ALPHABET CITY   \n",
              "2           6        1  ALPHABET CITY   \n",
              "3           7        1  ALPHABET CITY   \n",
              "4           8        1  ALPHABET CITY   \n",
              "\n",
              "                       BUILDING CLASS CATEGORY TAX CLASS AT PRESENT  BLOCK  \\\n",
              "0  07 RENTALS - WALKUP APARTMENTS                                2A    392   \n",
              "1  07 RENTALS - WALKUP APARTMENTS                                 2    399   \n",
              "2  07 RENTALS - WALKUP APARTMENTS                                 2    399   \n",
              "3  07 RENTALS - WALKUP APARTMENTS                                2B    402   \n",
              "4  07 RENTALS - WALKUP APARTMENTS                                2A    404   \n",
              "\n",
              "   LOT EASE-MENT BUILDING CLASS AT PRESENT                 ADDRESS  ...  \\\n",
              "0    6                                  C2            153 AVENUE B  ...   \n",
              "1   26                                  C7   234 EAST 4TH   STREET  ...   \n",
              "2   39                                  C7   197 EAST 3RD   STREET  ...   \n",
              "3   21                                  C4     154 EAST 7TH STREET  ...   \n",
              "4   55                                  C2  301 EAST 10TH   STREET  ...   \n",
              "\n",
              "  RESIDENTIAL UNITS  COMMERCIAL UNITS  TOTAL UNITS  LAND SQUARE FEET  \\\n",
              "0                 5                 0            5              1633   \n",
              "1                28                 3           31              4616   \n",
              "2                16                 1           17              2212   \n",
              "3                10                 0           10              2272   \n",
              "4                 6                 0            6              2369   \n",
              "\n",
              "   GROSS SQUARE FEET YEAR BUILT TAX CLASS AT TIME OF SALE  \\\n",
              "0               6440       1900                         2   \n",
              "1              18690       1900                         2   \n",
              "2               7803       1900                         2   \n",
              "3               6794       1913                         2   \n",
              "4               4615       1900                         2   \n",
              "\n",
              "   BUILDING CLASS AT TIME OF SALE  SALE PRICE            SALE DATE  \n",
              "0                              C2     6625000  2017-07-19 00:00:00  \n",
              "1                              C7         -    2016-12-14 00:00:00  \n",
              "2                              C7         -    2016-12-09 00:00:00  \n",
              "3                              C4     3936272  2016-09-23 00:00:00  \n",
              "4                              C2     8000000  2016-11-17 00:00:00  \n",
              "\n",
              "[5 rows x 22 columns]"
            ]
          },
          "execution_count": 9,
          "metadata": {},
          "output_type": "execute_result"
        }
      ],
      "source": [
        "# Menampilkan 5 data teratas\n",
        "df.head()"
      ]
    },
    {
      "cell_type": "markdown",
      "metadata": {
        "id": "jiasf_4tvk3B"
      },
      "source": [
        "Berikut contoh data yang terdapat didalam dataset terkait. Kita akan mengganti nilai data pada kolom **BOROUGH** terlebih dahulu."
      ]
    },
    {
      "cell_type": "code",
      "execution_count": 10,
      "metadata": {
        "id": "0isyvFpFnsUF"
      },
      "outputs": [],
      "source": [
        "# Mengganti nilai data kolom BOROUGH\n",
        "df[\"BOROUGH\"].replace({1: \"Manhattan\", 2: \"Bronx\", 3: \"Brooklyn\", 4: \"Queens\", 5: \"Staten Island\"}, inplace=True)"
      ]
    },
    {
      "cell_type": "code",
      "execution_count": 11,
      "metadata": {
        "colab": {
          "base_uri": "https://localhost:8080/"
        },
        "id": "RO90FYTHsQS_",
        "outputId": "9ee7dc3e-8a08-4483-f25f-6ff868bedf22"
      },
      "outputs": [
        {
          "name": "stdout",
          "output_type": "stream",
          "text": [
            "<class 'pandas.core.frame.DataFrame'>\n",
            "RangeIndex: 84548 entries, 0 to 84547\n",
            "Data columns (total 22 columns):\n",
            " #   Column                          Non-Null Count  Dtype \n",
            "---  ------                          --------------  ----- \n",
            " 0   Unnamed: 0                      84548 non-null  int64 \n",
            " 1   BOROUGH                         84548 non-null  object\n",
            " 2   NEIGHBORHOOD                    84548 non-null  object\n",
            " 3   BUILDING CLASS CATEGORY         84548 non-null  object\n",
            " 4   TAX CLASS AT PRESENT            84548 non-null  object\n",
            " 5   BLOCK                           84548 non-null  int64 \n",
            " 6   LOT                             84548 non-null  int64 \n",
            " 7   EASE-MENT                       84548 non-null  object\n",
            " 8   BUILDING CLASS AT PRESENT       84548 non-null  object\n",
            " 9   ADDRESS                         84548 non-null  object\n",
            " 10  APARTMENT NUMBER                84548 non-null  object\n",
            " 11  ZIP CODE                        84548 non-null  int64 \n",
            " 12  RESIDENTIAL UNITS               84548 non-null  int64 \n",
            " 13  COMMERCIAL UNITS                84548 non-null  int64 \n",
            " 14  TOTAL UNITS                     84548 non-null  int64 \n",
            " 15  LAND SQUARE FEET                84548 non-null  object\n",
            " 16  GROSS SQUARE FEET               84548 non-null  object\n",
            " 17  YEAR BUILT                      84548 non-null  int64 \n",
            " 18  TAX CLASS AT TIME OF SALE       84548 non-null  int64 \n",
            " 19  BUILDING CLASS AT TIME OF SALE  84548 non-null  object\n",
            " 20  SALE PRICE                      84548 non-null  object\n",
            " 21  SALE DATE                       84548 non-null  object\n",
            "dtypes: int64(9), object(13)\n",
            "memory usage: 14.2+ MB\n"
          ]
        }
      ],
      "source": [
        "# Informasi terkait tipe data, nama kolom\n",
        "df.info()"
      ]
    },
    {
      "cell_type": "markdown",
      "metadata": {
        "id": "LkuvoH5eselU"
      },
      "source": [
        "Banyak tipe data yang belum sesuai dengan yang diharapkan dan terdapat variabel yang tidak kita butuhkan setelah melihat *preview* data diatas. Kita akan menanganinya di bagian selanjutnya."
      ]
    },
    {
      "cell_type": "code",
      "execution_count": 12,
      "metadata": {
        "id": "5HX4Z1XzWrNx"
      },
      "outputs": [],
      "source": [
        "# Mengubah SALE PRICE, LAND SQUARE FEET dan GROSS SQUARE FEET ke numeric\n",
        "df[\"SALE PRICE\"] = pd.to_numeric(df[\"SALE PRICE\"], errors=\"coerce\")\n",
        "df[\"LAND SQUARE FEET\"] = pd.to_numeric(df[\"LAND SQUARE FEET\"], errors=\"coerce\")\n",
        "df[\"GROSS SQUARE FEET\"] = pd.to_numeric(df[\"GROSS SQUARE FEET\"], errors=\"coerce\")\n",
        "\n",
        "# Mengubah SALE DATE ke datetime\n",
        "df[\"SALE DATE\"] = pd.to_datetime(df[\"SALE DATE\"], errors=\"coerce\")\n",
        "\n",
        "# Mengubah TAX CLASS ke kategori\n",
        "df[\"TAX CLASS AT TIME OF SALE\"] = df[\"TAX CLASS AT TIME OF SALE\"].astype(\"category\")\n",
        "df[\"TAX CLASS AT PRESENT\"] =df[\"TAX CLASS AT PRESENT\"].astype(\"category\")"
      ]
    },
    {
      "cell_type": "markdown",
      "metadata": {
        "id": "yUBynfiJZM_r"
      },
      "source": [
        "Berikut variabel yang harus kita ubah tipe datanya dan mari kita cek kembali apakah ada nilai *null*."
      ]
    },
    {
      "cell_type": "code",
      "execution_count": 13,
      "metadata": {
        "colab": {
          "base_uri": "https://localhost:8080/"
        },
        "id": "NT5hAPKYaSVn",
        "outputId": "b49fc92d-927b-4ac6-81a0-1c797058153e"
      },
      "outputs": [
        {
          "name": "stdout",
          "output_type": "stream",
          "text": [
            "Missing values (percentage)\n",
            "Unnamed: 0: 0.0%\n",
            "BOROUGH: 0.0%\n",
            "NEIGHBORHOOD: 0.0%\n",
            "BUILDING CLASS CATEGORY: 0.0%\n",
            "TAX CLASS AT PRESENT: 0.0%\n",
            "BLOCK: 0.0%\n",
            "LOT: 0.0%\n",
            "EASE-MENT: 0.0%\n",
            "BUILDING CLASS AT PRESENT: 0.0%\n",
            "ADDRESS: 0.0%\n",
            "APARTMENT NUMBER: 0.0%\n",
            "ZIP CODE: 0.0%\n",
            "RESIDENTIAL UNITS: 0.0%\n",
            "COMMERCIAL UNITS: 0.0%\n",
            "TOTAL UNITS: 0.0%\n",
            "LAND SQUARE FEET: 31.05%\n",
            "GROSS SQUARE FEET: 32.66%\n",
            "YEAR BUILT: 0.0%\n",
            "TAX CLASS AT TIME OF SALE: 0.0%\n",
            "BUILDING CLASS AT TIME OF SALE: 0.0%\n",
            "SALE PRICE: 17.22%\n",
            "SALE DATE: 0.0%\n"
          ]
        }
      ],
      "source": [
        "print(\"Missing values (percentage)\")\n",
        "for k, v in zip(df.columns,np.round((df.isna().sum() / len(df) * 100), 2)):\n",
        "  print(f\"{k}: {v}%\")"
      ]
    },
    {
      "cell_type": "markdown",
      "metadata": {
        "id": "3dufgP-Xdot_"
      },
      "source": [
        "Dapat dilihat SALE PRICE, LAND SQUARE FEET, dan GROSS SQUARE FEET memiliki nilai *null*. Kita akan langsung menghapusnya."
      ]
    },
    {
      "cell_type": "code",
      "execution_count": 14,
      "metadata": {
        "id": "9SqY-X_0eQ2P"
      },
      "outputs": [],
      "source": [
        "# Menghapus nilai null\n",
        "df.dropna(inplace=True)"
      ]
    },
    {
      "cell_type": "code",
      "execution_count": 15,
      "metadata": {
        "colab": {
          "base_uri": "https://localhost:8080/"
        },
        "id": "rxq54WpvfICL",
        "outputId": "6900e6f4-c879-4703-ec65-6c2d83ccc0d0"
      },
      "outputs": [
        {
          "name": "stdout",
          "output_type": "stream",
          "text": [
            "<class 'pandas.core.frame.DataFrame'>\n",
            "Int64Index: 48244 entries, 0 to 84547\n",
            "Data columns (total 22 columns):\n",
            " #   Column                          Non-Null Count  Dtype         \n",
            "---  ------                          --------------  -----         \n",
            " 0   Unnamed: 0                      48244 non-null  int64         \n",
            " 1   BOROUGH                         48244 non-null  object        \n",
            " 2   NEIGHBORHOOD                    48244 non-null  object        \n",
            " 3   BUILDING CLASS CATEGORY         48244 non-null  object        \n",
            " 4   TAX CLASS AT PRESENT            48244 non-null  category      \n",
            " 5   BLOCK                           48244 non-null  int64         \n",
            " 6   LOT                             48244 non-null  int64         \n",
            " 7   EASE-MENT                       48244 non-null  object        \n",
            " 8   BUILDING CLASS AT PRESENT       48244 non-null  object        \n",
            " 9   ADDRESS                         48244 non-null  object        \n",
            " 10  APARTMENT NUMBER                48244 non-null  object        \n",
            " 11  ZIP CODE                        48244 non-null  int64         \n",
            " 12  RESIDENTIAL UNITS               48244 non-null  int64         \n",
            " 13  COMMERCIAL UNITS                48244 non-null  int64         \n",
            " 14  TOTAL UNITS                     48244 non-null  int64         \n",
            " 15  LAND SQUARE FEET                48244 non-null  float64       \n",
            " 16  GROSS SQUARE FEET               48244 non-null  float64       \n",
            " 17  YEAR BUILT                      48244 non-null  int64         \n",
            " 18  TAX CLASS AT TIME OF SALE       48244 non-null  category      \n",
            " 19  BUILDING CLASS AT TIME OF SALE  48244 non-null  object        \n",
            " 20  SALE PRICE                      48244 non-null  float64       \n",
            " 21  SALE DATE                       48244 non-null  datetime64[ns]\n",
            "dtypes: category(2), datetime64[ns](1), float64(3), int64(8), object(8)\n",
            "memory usage: 7.8+ MB\n"
          ]
        }
      ],
      "source": [
        "df.info()"
      ]
    },
    {
      "cell_type": "markdown",
      "metadata": {
        "id": "pf20N2DRfZYj"
      },
      "source": [
        "Dapat dilihat bahwa kita sudah tidak memiliki nilai null."
      ]
    },
    {
      "cell_type": "code",
      "execution_count": 16,
      "metadata": {
        "colab": {
          "base_uri": "https://localhost:8080/",
          "height": 382
        },
        "id": "f23ZyHAGs4aX",
        "outputId": "6b8fb909-9687-4555-da81-0dabcf211b27"
      },
      "outputs": [
        {
          "data": {
            "text/html": [
              "\n",
              "  <div id=\"df-c60b06c0-6dd6-451b-a32b-28bb56037108\">\n",
              "    <div class=\"colab-df-container\">\n",
              "      <div>\n",
              "<style scoped>\n",
              "    .dataframe tbody tr th:only-of-type {\n",
              "        vertical-align: middle;\n",
              "    }\n",
              "\n",
              "    .dataframe tbody tr th {\n",
              "        vertical-align: top;\n",
              "    }\n",
              "\n",
              "    .dataframe thead th {\n",
              "        text-align: right;\n",
              "    }\n",
              "</style>\n",
              "<table border=\"1\" class=\"dataframe\">\n",
              "  <thead>\n",
              "    <tr style=\"text-align: right;\">\n",
              "      <th></th>\n",
              "      <th>Unnamed: 0</th>\n",
              "      <th>BLOCK</th>\n",
              "      <th>LOT</th>\n",
              "      <th>ZIP CODE</th>\n",
              "      <th>RESIDENTIAL UNITS</th>\n",
              "      <th>COMMERCIAL UNITS</th>\n",
              "      <th>TOTAL UNITS</th>\n",
              "      <th>LAND SQUARE FEET</th>\n",
              "      <th>GROSS SQUARE FEET</th>\n",
              "      <th>YEAR BUILT</th>\n",
              "      <th>SALE PRICE</th>\n",
              "    </tr>\n",
              "  </thead>\n",
              "  <tbody>\n",
              "    <tr>\n",
              "      <th>count</th>\n",
              "      <td>48244.000000</td>\n",
              "      <td>48244.000000</td>\n",
              "      <td>48244.000000</td>\n",
              "      <td>48244.000000</td>\n",
              "      <td>48244.000000</td>\n",
              "      <td>48244.000000</td>\n",
              "      <td>48244.000000</td>\n",
              "      <td>4.824400e+04</td>\n",
              "      <td>4.824400e+04</td>\n",
              "      <td>48244.000000</td>\n",
              "      <td>4.824400e+04</td>\n",
              "    </tr>\n",
              "    <tr>\n",
              "      <th>mean</th>\n",
              "      <td>10448.940511</td>\n",
              "      <td>4984.532191</td>\n",
              "      <td>234.324662</td>\n",
              "      <td>10939.681328</td>\n",
              "      <td>2.566537</td>\n",
              "      <td>0.249171</td>\n",
              "      <td>2.834632</td>\n",
              "      <td>3.358117e+03</td>\n",
              "      <td>3.669753e+03</td>\n",
              "      <td>1827.765173</td>\n",
              "      <td>1.153281e+06</td>\n",
              "    </tr>\n",
              "    <tr>\n",
              "      <th>std</th>\n",
              "      <td>7574.416359</td>\n",
              "      <td>3427.418090</td>\n",
              "      <td>496.361521</td>\n",
              "      <td>1072.752086</td>\n",
              "      <td>17.465481</td>\n",
              "      <td>10.988072</td>\n",
              "      <td>20.750418</td>\n",
              "      <td>3.143590e+04</td>\n",
              "      <td>2.947491e+04</td>\n",
              "      <td>464.361153</td>\n",
              "      <td>1.340131e+07</td>\n",
              "    </tr>\n",
              "    <tr>\n",
              "      <th>min</th>\n",
              "      <td>4.000000</td>\n",
              "      <td>1.000000</td>\n",
              "      <td>1.000000</td>\n",
              "      <td>0.000000</td>\n",
              "      <td>0.000000</td>\n",
              "      <td>0.000000</td>\n",
              "      <td>0.000000</td>\n",
              "      <td>0.000000e+00</td>\n",
              "      <td>0.000000e+00</td>\n",
              "      <td>0.000000</td>\n",
              "      <td>0.000000e+00</td>\n",
              "    </tr>\n",
              "    <tr>\n",
              "      <th>25%</th>\n",
              "      <td>3919.750000</td>\n",
              "      <td>2206.750000</td>\n",
              "      <td>21.000000</td>\n",
              "      <td>10469.000000</td>\n",
              "      <td>1.000000</td>\n",
              "      <td>0.000000</td>\n",
              "      <td>1.000000</td>\n",
              "      <td>1.413000e+03</td>\n",
              "      <td>8.280000e+02</td>\n",
              "      <td>1920.000000</td>\n",
              "      <td>8.042000e+04</td>\n",
              "    </tr>\n",
              "    <tr>\n",
              "      <th>50%</th>\n",
              "      <td>8084.000000</td>\n",
              "      <td>4660.500000</td>\n",
              "      <td>45.000000</td>\n",
              "      <td>11217.000000</td>\n",
              "      <td>1.000000</td>\n",
              "      <td>0.000000</td>\n",
              "      <td>1.000000</td>\n",
              "      <td>2.140000e+03</td>\n",
              "      <td>1.620000e+03</td>\n",
              "      <td>1931.000000</td>\n",
              "      <td>4.800000e+05</td>\n",
              "    </tr>\n",
              "    <tr>\n",
              "      <th>75%</th>\n",
              "      <td>17160.000000</td>\n",
              "      <td>6996.000000</td>\n",
              "      <td>94.000000</td>\n",
              "      <td>11237.000000</td>\n",
              "      <td>2.000000</td>\n",
              "      <td>0.000000</td>\n",
              "      <td>2.000000</td>\n",
              "      <td>3.071000e+03</td>\n",
              "      <td>2.520000e+03</td>\n",
              "      <td>1961.000000</td>\n",
              "      <td>8.300000e+05</td>\n",
              "    </tr>\n",
              "    <tr>\n",
              "      <th>max</th>\n",
              "      <td>26702.000000</td>\n",
              "      <td>16319.000000</td>\n",
              "      <td>9009.000000</td>\n",
              "      <td>11694.000000</td>\n",
              "      <td>1844.000000</td>\n",
              "      <td>2261.000000</td>\n",
              "      <td>2261.000000</td>\n",
              "      <td>4.228300e+06</td>\n",
              "      <td>3.750565e+06</td>\n",
              "      <td>2017.000000</td>\n",
              "      <td>2.210000e+09</td>\n",
              "    </tr>\n",
              "  </tbody>\n",
              "</table>\n",
              "</div>\n",
              "      <button class=\"colab-df-convert\" onclick=\"convertToInteractive('df-c60b06c0-6dd6-451b-a32b-28bb56037108')\"\n",
              "              title=\"Convert this dataframe to an interactive table.\"\n",
              "              style=\"display:none;\">\n",
              "        \n",
              "  <svg xmlns=\"http://www.w3.org/2000/svg\" height=\"24px\"viewBox=\"0 0 24 24\"\n",
              "       width=\"24px\">\n",
              "    <path d=\"M0 0h24v24H0V0z\" fill=\"none\"/>\n",
              "    <path d=\"M18.56 5.44l.94 2.06.94-2.06 2.06-.94-2.06-.94-.94-2.06-.94 2.06-2.06.94zm-11 1L8.5 8.5l.94-2.06 2.06-.94-2.06-.94L8.5 2.5l-.94 2.06-2.06.94zm10 10l.94 2.06.94-2.06 2.06-.94-2.06-.94-.94-2.06-.94 2.06-2.06.94z\"/><path d=\"M17.41 7.96l-1.37-1.37c-.4-.4-.92-.59-1.43-.59-.52 0-1.04.2-1.43.59L10.3 9.45l-7.72 7.72c-.78.78-.78 2.05 0 2.83L4 21.41c.39.39.9.59 1.41.59.51 0 1.02-.2 1.41-.59l7.78-7.78 2.81-2.81c.8-.78.8-2.07 0-2.86zM5.41 20L4 18.59l7.72-7.72 1.47 1.35L5.41 20z\"/>\n",
              "  </svg>\n",
              "      </button>\n",
              "      \n",
              "  <style>\n",
              "    .colab-df-container {\n",
              "      display:flex;\n",
              "      flex-wrap:wrap;\n",
              "      gap: 12px;\n",
              "    }\n",
              "\n",
              "    .colab-df-convert {\n",
              "      background-color: #E8F0FE;\n",
              "      border: none;\n",
              "      border-radius: 50%;\n",
              "      cursor: pointer;\n",
              "      display: none;\n",
              "      fill: #1967D2;\n",
              "      height: 32px;\n",
              "      padding: 0 0 0 0;\n",
              "      width: 32px;\n",
              "    }\n",
              "\n",
              "    .colab-df-convert:hover {\n",
              "      background-color: #E2EBFA;\n",
              "      box-shadow: 0px 1px 2px rgba(60, 64, 67, 0.3), 0px 1px 3px 1px rgba(60, 64, 67, 0.15);\n",
              "      fill: #174EA6;\n",
              "    }\n",
              "\n",
              "    [theme=dark] .colab-df-convert {\n",
              "      background-color: #3B4455;\n",
              "      fill: #D2E3FC;\n",
              "    }\n",
              "\n",
              "    [theme=dark] .colab-df-convert:hover {\n",
              "      background-color: #434B5C;\n",
              "      box-shadow: 0px 1px 3px 1px rgba(0, 0, 0, 0.15);\n",
              "      filter: drop-shadow(0px 1px 2px rgba(0, 0, 0, 0.3));\n",
              "      fill: #FFFFFF;\n",
              "    }\n",
              "  </style>\n",
              "\n",
              "      <script>\n",
              "        const buttonEl =\n",
              "          document.querySelector('#df-c60b06c0-6dd6-451b-a32b-28bb56037108 button.colab-df-convert');\n",
              "        buttonEl.style.display =\n",
              "          google.colab.kernel.accessAllowed ? 'block' : 'none';\n",
              "\n",
              "        async function convertToInteractive(key) {\n",
              "          const element = document.querySelector('#df-c60b06c0-6dd6-451b-a32b-28bb56037108');\n",
              "          const dataTable =\n",
              "            await google.colab.kernel.invokeFunction('convertToInteractive',\n",
              "                                                     [key], {});\n",
              "          if (!dataTable) return;\n",
              "\n",
              "          const docLinkHtml = 'Like what you see? Visit the ' +\n",
              "            '<a target=\"_blank\" href=https://colab.research.google.com/notebooks/data_table.ipynb>data table notebook</a>'\n",
              "            + ' to learn more about interactive tables.';\n",
              "          element.innerHTML = '';\n",
              "          dataTable['output_type'] = 'display_data';\n",
              "          await google.colab.output.renderOutput(dataTable, element);\n",
              "          const docLink = document.createElement('div');\n",
              "          docLink.innerHTML = docLinkHtml;\n",
              "          element.appendChild(docLink);\n",
              "        }\n",
              "      </script>\n",
              "    </div>\n",
              "  </div>\n",
              "  "
            ],
            "text/plain": [
              "         Unnamed: 0         BLOCK           LOT      ZIP CODE  \\\n",
              "count  48244.000000  48244.000000  48244.000000  48244.000000   \n",
              "mean   10448.940511   4984.532191    234.324662  10939.681328   \n",
              "std     7574.416359   3427.418090    496.361521   1072.752086   \n",
              "min        4.000000      1.000000      1.000000      0.000000   \n",
              "25%     3919.750000   2206.750000     21.000000  10469.000000   \n",
              "50%     8084.000000   4660.500000     45.000000  11217.000000   \n",
              "75%    17160.000000   6996.000000     94.000000  11237.000000   \n",
              "max    26702.000000  16319.000000   9009.000000  11694.000000   \n",
              "\n",
              "       RESIDENTIAL UNITS  COMMERCIAL UNITS   TOTAL UNITS  LAND SQUARE FEET  \\\n",
              "count       48244.000000      48244.000000  48244.000000      4.824400e+04   \n",
              "mean            2.566537          0.249171      2.834632      3.358117e+03   \n",
              "std            17.465481         10.988072     20.750418      3.143590e+04   \n",
              "min             0.000000          0.000000      0.000000      0.000000e+00   \n",
              "25%             1.000000          0.000000      1.000000      1.413000e+03   \n",
              "50%             1.000000          0.000000      1.000000      2.140000e+03   \n",
              "75%             2.000000          0.000000      2.000000      3.071000e+03   \n",
              "max          1844.000000       2261.000000   2261.000000      4.228300e+06   \n",
              "\n",
              "       GROSS SQUARE FEET    YEAR BUILT    SALE PRICE  \n",
              "count       4.824400e+04  48244.000000  4.824400e+04  \n",
              "mean        3.669753e+03   1827.765173  1.153281e+06  \n",
              "std         2.947491e+04    464.361153  1.340131e+07  \n",
              "min         0.000000e+00      0.000000  0.000000e+00  \n",
              "25%         8.280000e+02   1920.000000  8.042000e+04  \n",
              "50%         1.620000e+03   1931.000000  4.800000e+05  \n",
              "75%         2.520000e+03   1961.000000  8.300000e+05  \n",
              "max         3.750565e+06   2017.000000  2.210000e+09  "
            ]
          },
          "execution_count": 16,
          "metadata": {},
          "output_type": "execute_result"
        }
      ],
      "source": [
        "df.describe()"
      ]
    },
    {
      "cell_type": "markdown",
      "metadata": {
        "id": "Q4xN_Uodt0wk"
      },
      "source": [
        "Berikut ringkasan statistik untuk tipe data number. Terdapat beberapa hal menarik disini, yaitu:\n",
        "\n",
        "- Terdapat kolom yang tidak kita butuhkan seperti Unnamed: 0.\n",
        "- ZIP CODE yang memiliki nilai 0, yang pastinya tidak mungkin.\n",
        "- Terdapat setidaknya 1 TOTAL UNIT pada 50% dari jumlah data.\n",
        "- SQUARE FEET yang memiliki nilai 0, yang seharusnya tidak mungkin.\n",
        "- YEAR BUILT yang memiliki nilai 0, lagi dan lagi tidak mungkin.\n",
        "- Beberapa SALE PRICE memiliki nilai 0, yang juga tidak mungkin atau terjadi pemindahan hak akta yang sebenarnya bukan penjualan."
      ]
    },
    {
      "cell_type": "code",
      "execution_count": 17,
      "metadata": {
        "colab": {
          "base_uri": "https://localhost:8080/",
          "height": 423
        },
        "id": "X6AHDJ4as9PH",
        "outputId": "59c3e422-cfc2-415e-cad1-4505242160b1"
      },
      "outputs": [
        {
          "name": "stderr",
          "output_type": "stream",
          "text": [
            "/usr/local/lib/python3.7/dist-packages/ipykernel_launcher.py:1: FutureWarning: Treating datetime data as categorical rather than numeric in `.describe` is deprecated and will be removed in a future version of pandas. Specify `datetime_is_numeric=True` to silence this warning and adopt the future behavior now.\n",
            "  \"\"\"Entry point for launching an IPython kernel.\n"
          ]
        },
        {
          "data": {
            "text/html": [
              "\n",
              "  <div id=\"df-8a7b5eea-4c3c-4391-aa63-80a8d6c33114\">\n",
              "    <div class=\"colab-df-container\">\n",
              "      <div>\n",
              "<style scoped>\n",
              "    .dataframe tbody tr th:only-of-type {\n",
              "        vertical-align: middle;\n",
              "    }\n",
              "\n",
              "    .dataframe tbody tr th {\n",
              "        vertical-align: top;\n",
              "    }\n",
              "\n",
              "    .dataframe thead th {\n",
              "        text-align: right;\n",
              "    }\n",
              "</style>\n",
              "<table border=\"1\" class=\"dataframe\">\n",
              "  <thead>\n",
              "    <tr style=\"text-align: right;\">\n",
              "      <th></th>\n",
              "      <th>BOROUGH</th>\n",
              "      <th>NEIGHBORHOOD</th>\n",
              "      <th>BUILDING CLASS CATEGORY</th>\n",
              "      <th>TAX CLASS AT PRESENT</th>\n",
              "      <th>EASE-MENT</th>\n",
              "      <th>BUILDING CLASS AT PRESENT</th>\n",
              "      <th>ADDRESS</th>\n",
              "      <th>APARTMENT NUMBER</th>\n",
              "      <th>TAX CLASS AT TIME OF SALE</th>\n",
              "      <th>BUILDING CLASS AT TIME OF SALE</th>\n",
              "      <th>SALE DATE</th>\n",
              "    </tr>\n",
              "  </thead>\n",
              "  <tbody>\n",
              "    <tr>\n",
              "      <th>count</th>\n",
              "      <td>48244</td>\n",
              "      <td>48244</td>\n",
              "      <td>48244</td>\n",
              "      <td>48244</td>\n",
              "      <td>48244</td>\n",
              "      <td>48244</td>\n",
              "      <td>48244</td>\n",
              "      <td>48244</td>\n",
              "      <td>48244.0</td>\n",
              "      <td>48244</td>\n",
              "      <td>48244</td>\n",
              "    </tr>\n",
              "    <tr>\n",
              "      <th>unique</th>\n",
              "      <td>5</td>\n",
              "      <td>251</td>\n",
              "      <td>47</td>\n",
              "      <td>11</td>\n",
              "      <td>1</td>\n",
              "      <td>160</td>\n",
              "      <td>42054</td>\n",
              "      <td>1559</td>\n",
              "      <td>4.0</td>\n",
              "      <td>160</td>\n",
              "      <td>362</td>\n",
              "    </tr>\n",
              "    <tr>\n",
              "      <th>top</th>\n",
              "      <td>Brooklyn</td>\n",
              "      <td>BEDFORD STUYVESANT</td>\n",
              "      <td>01 ONE FAMILY DWELLINGS</td>\n",
              "      <td>1</td>\n",
              "      <td></td>\n",
              "      <td>A1</td>\n",
              "      <td>429 KENT AVENUE</td>\n",
              "      <td></td>\n",
              "      <td>1.0</td>\n",
              "      <td>A1</td>\n",
              "      <td>2016-12-22 00:00:00</td>\n",
              "    </tr>\n",
              "    <tr>\n",
              "      <th>freq</th>\n",
              "      <td>24047</td>\n",
              "      <td>1436</td>\n",
              "      <td>14394</td>\n",
              "      <td>31194</td>\n",
              "      <td>48244</td>\n",
              "      <td>5252</td>\n",
              "      <td>158</td>\n",
              "      <td>41502</td>\n",
              "      <td>32455.0</td>\n",
              "      <td>5247</td>\n",
              "      <td>332</td>\n",
              "    </tr>\n",
              "    <tr>\n",
              "      <th>first</th>\n",
              "      <td>NaN</td>\n",
              "      <td>NaN</td>\n",
              "      <td>NaN</td>\n",
              "      <td>NaN</td>\n",
              "      <td>NaN</td>\n",
              "      <td>NaN</td>\n",
              "      <td>NaN</td>\n",
              "      <td>NaN</td>\n",
              "      <td>NaN</td>\n",
              "      <td>NaN</td>\n",
              "      <td>2016-09-01 00:00:00</td>\n",
              "    </tr>\n",
              "    <tr>\n",
              "      <th>last</th>\n",
              "      <td>NaN</td>\n",
              "      <td>NaN</td>\n",
              "      <td>NaN</td>\n",
              "      <td>NaN</td>\n",
              "      <td>NaN</td>\n",
              "      <td>NaN</td>\n",
              "      <td>NaN</td>\n",
              "      <td>NaN</td>\n",
              "      <td>NaN</td>\n",
              "      <td>NaN</td>\n",
              "      <td>2017-08-31 00:00:00</td>\n",
              "    </tr>\n",
              "  </tbody>\n",
              "</table>\n",
              "</div>\n",
              "      <button class=\"colab-df-convert\" onclick=\"convertToInteractive('df-8a7b5eea-4c3c-4391-aa63-80a8d6c33114')\"\n",
              "              title=\"Convert this dataframe to an interactive table.\"\n",
              "              style=\"display:none;\">\n",
              "        \n",
              "  <svg xmlns=\"http://www.w3.org/2000/svg\" height=\"24px\"viewBox=\"0 0 24 24\"\n",
              "       width=\"24px\">\n",
              "    <path d=\"M0 0h24v24H0V0z\" fill=\"none\"/>\n",
              "    <path d=\"M18.56 5.44l.94 2.06.94-2.06 2.06-.94-2.06-.94-.94-2.06-.94 2.06-2.06.94zm-11 1L8.5 8.5l.94-2.06 2.06-.94-2.06-.94L8.5 2.5l-.94 2.06-2.06.94zm10 10l.94 2.06.94-2.06 2.06-.94-2.06-.94-.94-2.06-.94 2.06-2.06.94z\"/><path d=\"M17.41 7.96l-1.37-1.37c-.4-.4-.92-.59-1.43-.59-.52 0-1.04.2-1.43.59L10.3 9.45l-7.72 7.72c-.78.78-.78 2.05 0 2.83L4 21.41c.39.39.9.59 1.41.59.51 0 1.02-.2 1.41-.59l7.78-7.78 2.81-2.81c.8-.78.8-2.07 0-2.86zM5.41 20L4 18.59l7.72-7.72 1.47 1.35L5.41 20z\"/>\n",
              "  </svg>\n",
              "      </button>\n",
              "      \n",
              "  <style>\n",
              "    .colab-df-container {\n",
              "      display:flex;\n",
              "      flex-wrap:wrap;\n",
              "      gap: 12px;\n",
              "    }\n",
              "\n",
              "    .colab-df-convert {\n",
              "      background-color: #E8F0FE;\n",
              "      border: none;\n",
              "      border-radius: 50%;\n",
              "      cursor: pointer;\n",
              "      display: none;\n",
              "      fill: #1967D2;\n",
              "      height: 32px;\n",
              "      padding: 0 0 0 0;\n",
              "      width: 32px;\n",
              "    }\n",
              "\n",
              "    .colab-df-convert:hover {\n",
              "      background-color: #E2EBFA;\n",
              "      box-shadow: 0px 1px 2px rgba(60, 64, 67, 0.3), 0px 1px 3px 1px rgba(60, 64, 67, 0.15);\n",
              "      fill: #174EA6;\n",
              "    }\n",
              "\n",
              "    [theme=dark] .colab-df-convert {\n",
              "      background-color: #3B4455;\n",
              "      fill: #D2E3FC;\n",
              "    }\n",
              "\n",
              "    [theme=dark] .colab-df-convert:hover {\n",
              "      background-color: #434B5C;\n",
              "      box-shadow: 0px 1px 3px 1px rgba(0, 0, 0, 0.15);\n",
              "      filter: drop-shadow(0px 1px 2px rgba(0, 0, 0, 0.3));\n",
              "      fill: #FFFFFF;\n",
              "    }\n",
              "  </style>\n",
              "\n",
              "      <script>\n",
              "        const buttonEl =\n",
              "          document.querySelector('#df-8a7b5eea-4c3c-4391-aa63-80a8d6c33114 button.colab-df-convert');\n",
              "        buttonEl.style.display =\n",
              "          google.colab.kernel.accessAllowed ? 'block' : 'none';\n",
              "\n",
              "        async function convertToInteractive(key) {\n",
              "          const element = document.querySelector('#df-8a7b5eea-4c3c-4391-aa63-80a8d6c33114');\n",
              "          const dataTable =\n",
              "            await google.colab.kernel.invokeFunction('convertToInteractive',\n",
              "                                                     [key], {});\n",
              "          if (!dataTable) return;\n",
              "\n",
              "          const docLinkHtml = 'Like what you see? Visit the ' +\n",
              "            '<a target=\"_blank\" href=https://colab.research.google.com/notebooks/data_table.ipynb>data table notebook</a>'\n",
              "            + ' to learn more about interactive tables.';\n",
              "          element.innerHTML = '';\n",
              "          dataTable['output_type'] = 'display_data';\n",
              "          await google.colab.output.renderOutput(dataTable, element);\n",
              "          const docLink = document.createElement('div');\n",
              "          docLink.innerHTML = docLinkHtml;\n",
              "          element.appendChild(docLink);\n",
              "        }\n",
              "      </script>\n",
              "    </div>\n",
              "  </div>\n",
              "  "
            ],
            "text/plain": [
              "         BOROUGH        NEIGHBORHOOD  \\\n",
              "count      48244               48244   \n",
              "unique         5                 251   \n",
              "top     Brooklyn  BEDFORD STUYVESANT   \n",
              "freq       24047                1436   \n",
              "first        NaN                 NaN   \n",
              "last         NaN                 NaN   \n",
              "\n",
              "                            BUILDING CLASS CATEGORY TAX CLASS AT PRESENT  \\\n",
              "count                                         48244                48244   \n",
              "unique                                           47                   11   \n",
              "top     01 ONE FAMILY DWELLINGS                                        1   \n",
              "freq                                          14394                31194   \n",
              "first                                           NaN                  NaN   \n",
              "last                                            NaN                  NaN   \n",
              "\n",
              "       EASE-MENT BUILDING CLASS AT PRESENT          ADDRESS APARTMENT NUMBER  \\\n",
              "count      48244                     48244            48244            48244   \n",
              "unique         1                       160            42054             1559   \n",
              "top                                     A1  429 KENT AVENUE                    \n",
              "freq       48244                      5252              158            41502   \n",
              "first        NaN                       NaN              NaN              NaN   \n",
              "last         NaN                       NaN              NaN              NaN   \n",
              "\n",
              "        TAX CLASS AT TIME OF SALE BUILDING CLASS AT TIME OF SALE  \\\n",
              "count                     48244.0                          48244   \n",
              "unique                        4.0                            160   \n",
              "top                           1.0                             A1   \n",
              "freq                      32455.0                           5247   \n",
              "first                         NaN                            NaN   \n",
              "last                          NaN                            NaN   \n",
              "\n",
              "                  SALE DATE  \n",
              "count                 48244  \n",
              "unique                  362  \n",
              "top     2016-12-22 00:00:00  \n",
              "freq                    332  \n",
              "first   2016-09-01 00:00:00  \n",
              "last    2017-08-31 00:00:00  "
            ]
          },
          "execution_count": 17,
          "metadata": {},
          "output_type": "execute_result"
        }
      ],
      "source": [
        "df.describe(exclude=\"number\")"
      ]
    },
    {
      "cell_type": "markdown",
      "metadata": {
        "id": "iMbzkVe9t5Xp"
      },
      "source": [
        "Berikut ringkasan statistik untuk tipe data object/category. Terdapat beberapa hal menarik disini, yaitu: \n",
        "- Terdapat kolom yang tidak kita butuhkan seperti EASEMENT karena hanya memiliki 1 data unik \n",
        "- APARTMENT NUMBER yang memiliki banyak nilai kosong, tetapi tidak terdeteksi sebagai *missing values*."
      ]
    },
    {
      "cell_type": "code",
      "execution_count": 18,
      "metadata": {
        "id": "FJQInRKuf3LJ"
      },
      "outputs": [],
      "source": [
        "# Menghapus kolom Unnamed: 0 dan EASE-MENT\n",
        "df.drop(columns=[\"Unnamed: 0\", \"EASE-MENT\", \"APARTMENT NUMBER\"], inplace=True)"
      ]
    },
    {
      "cell_type": "markdown",
      "metadata": {
        "id": "5TawQNvbsmyy"
      },
      "source": [
        "Kolom Unnamed: 0, APARTMENT NUMBER dan EASE-MENT sudah terhapus. Berikutnya kita memeriksa apakah terdapat data duplikat."
      ]
    },
    {
      "cell_type": "code",
      "execution_count": 19,
      "metadata": {
        "colab": {
          "base_uri": "https://localhost:8080/"
        },
        "id": "WMCV_X04isVH",
        "outputId": "392ab2f9-b66f-45d0-b44e-636fcf7341ca"
      },
      "outputs": [
        {
          "data": {
            "text/plain": [
              "348"
            ]
          },
          "execution_count": 19,
          "metadata": {},
          "output_type": "execute_result"
        }
      ],
      "source": [
        "# Memeriksa data duplikat\n",
        "df.duplicated().sum()"
      ]
    },
    {
      "cell_type": "markdown",
      "metadata": {
        "id": "zflG_UQrljW6"
      },
      "source": [
        "Langsung saja kita menghapus data duplikat."
      ]
    },
    {
      "cell_type": "code",
      "execution_count": 20,
      "metadata": {
        "id": "XrQZ3c3Tln0U"
      },
      "outputs": [],
      "source": [
        "# Menghapus data duplikat\n",
        "df.drop_duplicates(subset=df.columns, keep=\"last\", inplace=True)"
      ]
    },
    {
      "cell_type": "markdown",
      "metadata": {
        "id": "6zcm_1Lkly0d"
      },
      "source": [
        "Data duplikat sudah terhapus. Selanjutnya kita menghapus data yang tidak sesuai, seperti ZIP CODE yang memiliki nilai 0, dsb."
      ]
    },
    {
      "cell_type": "code",
      "execution_count": 21,
      "metadata": {
        "id": "vn1Ozh6b4TNy"
      },
      "outputs": [],
      "source": [
        "# Filtering data yang memiliki nilai 0\n",
        "df = df[df[\"SALE PRICE\"] > 0]\n",
        "df = df[df[\"LAND SQUARE FEET\"] > 0]\n",
        "df = df[df[\"GROSS SQUARE FEET\"] > 0]\n",
        "df = df[df[\"ZIP CODE\"] > 0]\n",
        "df = df[df[\"YEAR BUILT\"] > 0]"
      ]
    },
    {
      "cell_type": "code",
      "execution_count": 22,
      "metadata": {
        "colab": {
          "base_uri": "https://localhost:8080/"
        },
        "id": "m3PWtKKS8Olw",
        "outputId": "712fffb1-a553-4f34-b32a-a62f0f5968fb"
      },
      "outputs": [
        {
          "name": "stdout",
          "output_type": "stream",
          "text": [
            "<class 'pandas.core.frame.DataFrame'>\n",
            "Int64Index: 29189 entries, 0 to 84547\n",
            "Data columns (total 19 columns):\n",
            " #   Column                          Non-Null Count  Dtype         \n",
            "---  ------                          --------------  -----         \n",
            " 0   BOROUGH                         29189 non-null  object        \n",
            " 1   NEIGHBORHOOD                    29189 non-null  object        \n",
            " 2   BUILDING CLASS CATEGORY         29189 non-null  object        \n",
            " 3   TAX CLASS AT PRESENT            29189 non-null  category      \n",
            " 4   BLOCK                           29189 non-null  int64         \n",
            " 5   LOT                             29189 non-null  int64         \n",
            " 6   BUILDING CLASS AT PRESENT       29189 non-null  object        \n",
            " 7   ADDRESS                         29189 non-null  object        \n",
            " 8   ZIP CODE                        29189 non-null  int64         \n",
            " 9   RESIDENTIAL UNITS               29189 non-null  int64         \n",
            " 10  COMMERCIAL UNITS                29189 non-null  int64         \n",
            " 11  TOTAL UNITS                     29189 non-null  int64         \n",
            " 12  LAND SQUARE FEET                29189 non-null  float64       \n",
            " 13  GROSS SQUARE FEET               29189 non-null  float64       \n",
            " 14  YEAR BUILT                      29189 non-null  int64         \n",
            " 15  TAX CLASS AT TIME OF SALE       29189 non-null  category      \n",
            " 16  BUILDING CLASS AT TIME OF SALE  29189 non-null  object        \n",
            " 17  SALE PRICE                      29189 non-null  float64       \n",
            " 18  SALE DATE                       29189 non-null  datetime64[ns]\n",
            "dtypes: category(2), datetime64[ns](1), float64(3), int64(7), object(6)\n",
            "memory usage: 4.1+ MB\n"
          ]
        }
      ],
      "source": [
        "df.info()"
      ]
    },
    {
      "cell_type": "markdown",
      "metadata": {
        "id": "Z3AMtsoM9NfV"
      },
      "source": [
        "Data yang kita miliki hanya tersisa **29189** data."
      ]
    },
    {
      "cell_type": "markdown",
      "metadata": {
        "id": "aY8q3B5iwhhV"
      },
      "source": [
        "\n",
        "\n",
        "---\n",
        "\n"
      ]
    },
    {
      "cell_type": "markdown",
      "metadata": {
        "id": "gJr-USMtwTWw"
      },
      "source": [
        "# **3. Data Analysis**\n",
        "\n",
        "Pada bagian ini, kita akan menjawab pertanyaan bisnis yang terdapat di **Bagian 1.3.**"
      ]
    },
    {
      "cell_type": "markdown",
      "metadata": {
        "id": "oZbU6exhX_0k"
      },
      "source": [
        "## **3.1. Berapakah harga jual properti yang terdapat pada masing-masing wilayah?** (Measure of Central Tedency : Median)"
      ]
    },
    {
      "cell_type": "code",
      "execution_count": 23,
      "metadata": {
        "colab": {
          "base_uri": "https://localhost:8080/"
        },
        "id": "GxfcTx8msvbb",
        "outputId": "ef132212-7007-4d21-a67c-33ee2bc3c9da"
      },
      "outputs": [
        {
          "data": {
            "text/plain": [
              "BOROUGH\n",
              "Manhattan       6500000.00\n",
              "Brooklyn         850000.00\n",
              "Queens           635000.00\n",
              "Staten Island    485000.00\n",
              "Bronx            480000.00\n",
              "Name: SALE PRICE, dtype: float64"
            ]
          },
          "execution_count": 23,
          "metadata": {},
          "output_type": "execute_result"
        }
      ],
      "source": [
        "# Menghilangkan exponent number\n",
        "pd.set_option('display.float_format', lambda x: '%.2f' % x)\n",
        "# Mencari median harga jual berdasarkan wilayah\n",
        "df.groupby(\"BOROUGH\").agg(\"median\")[\"SALE PRICE\"].sort_values(ascending=False)"
      ]
    },
    {
      "cell_type": "markdown",
      "metadata": {
        "id": "mkRFN5APhUPI"
      },
      "source": [
        "Manhattan menjadi wilayah yang setidaknya memiliki harga penjualan paling tinggi, yaitu sebesar **6,500,000.00 USD Dollar** dan Bronx mempunyai nilai setidaknya yang paling rendah, yaitu sebesar **480,000.00 USD Dollar**. Nilai ini diambil menggunakan median karena terdapat outlier yang lumayan besar nilanya."
      ]
    },
    {
      "cell_type": "markdown",
      "metadata": {
        "id": "bWvwkQIj4pmV"
      },
      "source": [
        "## **3.2. Berapakah rata-rata luas tanah yang banyak terjual di wilayah Bronx?** (Measure of Central Tedency : Mean)"
      ]
    },
    {
      "cell_type": "code",
      "execution_count": 24,
      "metadata": {
        "colab": {
          "base_uri": "https://localhost:8080/"
        },
        "id": "7GjmquE2ZD1b",
        "outputId": "213314e1-6639-44a0-9c30-4f7c8a790b7b"
      },
      "outputs": [
        {
          "name": "stdout",
          "output_type": "stream",
          "text": [
            "Luas tanah rata-rata yang terjual di wilayah Bronx: 4469.908701854493\n"
          ]
        }
      ],
      "source": [
        "# Menghilangkan exponent number\n",
        "pd.set_option('display.float_format', lambda x: '%.2f' % x)\n",
        "# Filtering wilayah Bronx\n",
        "mask = df[\"BOROUGH\"] == \"Bronx\"\n",
        "# Mencari mean luas tanah yang terjual di wilayah Bronx\n",
        "print(f\"Luas tanah rata-rata yang terjual di wilayah Bronx: {np.mean(df[mask]['LAND SQUARE FEET'])}\")"
      ]
    },
    {
      "cell_type": "markdown",
      "metadata": {
        "id": "kjeN9jV19vv1"
      },
      "source": [
        "4469.91 square feet menjadi rata-rata luas tanah yang terjual di wilayah Bronx."
      ]
    },
    {
      "cell_type": "markdown",
      "metadata": {
        "id": "4tORtzqP98z4"
      },
      "source": [
        "## **3.3. Properti yang dibangun tahun berapakah yang banyak terjual di wilayah Staten Island?** (Measure of Central Tedency : Modus)"
      ]
    },
    {
      "cell_type": "code",
      "execution_count": 25,
      "metadata": {
        "colab": {
          "base_uri": "https://localhost:8080/"
        },
        "id": "0sOiNQqo-xiB",
        "outputId": "e338e7f7-6006-41c6-fb48-beed39acf665"
      },
      "outputs": [
        {
          "data": {
            "text/plain": [
              "ModeResult(mode=array([1970]), count=array([348]))"
            ]
          },
          "execution_count": 25,
          "metadata": {},
          "output_type": "execute_result"
        }
      ],
      "source": [
        "# Menghilangkan exponent number\n",
        "pd.set_option('display.float_format', lambda x: '%.2f' % x)\n",
        "# Filtering wilayah Staten Island\n",
        "mask = df[\"BOROUGH\"] == \"Staten Island\"\n",
        "# Mencari nilai modus\n",
        "stats.mode(df[mask]['YEAR BUILT'])"
      ]
    },
    {
      "cell_type": "markdown",
      "metadata": {
        "id": "eo4kpo9ENYYX"
      },
      "source": [
        "Properti yang dibangun pada tahun 1970 menjadi yang paling banyak terjual di wilayah Staten Island dengan jumlah 348 yang terjual di tahun 2016-2017."
      ]
    },
    {
      "cell_type": "markdown",
      "metadata": {
        "id": "DWcpdttWOjwN"
      },
      "source": [
        "## **3.4. Berapakah rentang harga properti di daerah Alphabet City?** (Measured of Spread : Range)"
      ]
    },
    {
      "cell_type": "code",
      "execution_count": 26,
      "metadata": {
        "colab": {
          "base_uri": "https://localhost:8080/"
        },
        "id": "7nbCR_foNbHg",
        "outputId": "3cf42a3c-795b-468f-a99f-d92acf30cd9f"
      },
      "outputs": [
        {
          "name": "stdout",
          "output_type": "stream",
          "text": [
            "Min: 3192840.0\n",
            "Max: 16232000.0\n",
            "Rentang luas bangunan: 13039160.0\n"
          ]
        }
      ],
      "source": [
        "# Menghilangkan exponent number\n",
        "pd.set_option('display.float_format', lambda x: '%.2f' % x)\n",
        "# Filtering daerah Alphabet City\n",
        "mask = df[\"NEIGHBORHOOD\"] == \"ALPHABET CITY\"\n",
        "# Mencari nilai modus\n",
        "print(f\"Min: {df[mask]['SALE PRICE'].min()}\")\n",
        "print(f\"Max: {df[mask]['SALE PRICE'].max()}\")\n",
        "print(f\"Rentang luas bangunan: {df[mask]['SALE PRICE'].max() - df[mask]['SALE PRICE'].min()}\")"
      ]
    },
    {
      "cell_type": "markdown",
      "metadata": {
        "id": "O-wEotSEOq_L"
      },
      "source": [
        "Pada daerah Alphabet City memiliki rentang harga properti yang berkisar **13,039,160 USD Dollar** dengan luas bangunan terkecil sebesar **3,192,840 USD Dollar** dan terbesar sebesar **16,232,000 USD Dollar**"
      ]
    },
    {
      "cell_type": "markdown",
      "metadata": {
        "id": "qPOZMkLKT7I2"
      },
      "source": [
        "## **3.5. Berapa nilai variance dari luas tanah di daerah Alphabet City** (Measured of Spread : Variance)"
      ]
    },
    {
      "cell_type": "code",
      "execution_count": 27,
      "metadata": {
        "colab": {
          "base_uri": "https://localhost:8080/"
        },
        "id": "FXeJQ-rPYofh",
        "outputId": "c3f680a2-035d-4cac-ef97-92332cb8bb32"
      },
      "outputs": [
        {
          "data": {
            "text/plain": [
              "1267775.8181818184"
            ]
          },
          "execution_count": 27,
          "metadata": {},
          "output_type": "execute_result"
        }
      ],
      "source": [
        "# Menghilangkan exponent number\n",
        "pd.set_option('display.float_format', lambda x: '%.2f' % x)\n",
        "# Filtering daerah Alphabet City\n",
        "mask = df[\"NEIGHBORHOOD\"] == \"ALPHABET CITY\"\n",
        "# Mencari nilai variance\n",
        "df[mask][\"LAND SQUARE FEET\"].var()"
      ]
    },
    {
      "cell_type": "markdown",
      "metadata": {
        "id": "WmWeUSbmYHLL"
      },
      "source": [
        "Sample variance dari luas tanah di daerah Alphabet City adalah sebesar **1,267,775.81**."
      ]
    },
    {
      "cell_type": "markdown",
      "metadata": {
        "id": "RbxDXw_IaKn0"
      },
      "source": [
        "## **3.6. Berapa nilai standard deviation dari luas tanah di daerah Alphabet City** (Measured of Spread : Standard Deviation)"
      ]
    },
    {
      "cell_type": "code",
      "execution_count": 28,
      "metadata": {
        "colab": {
          "base_uri": "https://localhost:8080/"
        },
        "id": "lVc-w-jmacuZ",
        "outputId": "ed306bca-b88d-4176-d0dd-46e9e85c9947"
      },
      "outputs": [
        {
          "data": {
            "text/plain": [
              "1125.9555134115283"
            ]
          },
          "execution_count": 28,
          "metadata": {},
          "output_type": "execute_result"
        }
      ],
      "source": [
        "# Menghilangkan exponent number\n",
        "pd.set_option('display.float_format', lambda x: '%.2f' % x)\n",
        "# Filtering daerah Alphabet City\n",
        "mask = df[\"NEIGHBORHOOD\"] == \"ALPHABET CITY\"\n",
        "# Mencari nilai standard deviation\n",
        "df[mask][\"LAND SQUARE FEET\"].std()"
      ]
    },
    {
      "cell_type": "markdown",
      "metadata": {
        "id": "c0opX1nFdCHe"
      },
      "source": [
        "Sample standard deviation dari luas tanah di daerah Alphabet City adalah sebesar **1125.96**."
      ]
    },
    {
      "cell_type": "markdown",
      "metadata": {
        "id": "L9wiLwbxjUfz"
      },
      "source": [
        "## **3.7. Bagaimana distribusi harga jual di daerah Alphabet City?** (Probability Distribution)"
      ]
    },
    {
      "cell_type": "code",
      "execution_count": 29,
      "metadata": {
        "colab": {
          "base_uri": "https://localhost:8080/",
          "height": 570
        },
        "id": "zjOlnWPcqpJl",
        "outputId": "8f2bd3cf-8a73-4e32-997b-3fd5fc896753"
      },
      "outputs": [
        {
          "name": "stderr",
          "output_type": "stream",
          "text": [
            "/usr/local/lib/python3.7/dist-packages/seaborn/distributions.py:2619: FutureWarning: `distplot` is a deprecated function and will be removed in a future version. Please adapt your code to use either `displot` (a figure-level function with similar flexibility) or `histplot` (an axes-level function for histograms).\n",
            "  warnings.warn(msg, FutureWarning)\n"
          ]
        },
        {
          "data": {
            "image/png": "[encoded data removed]",
            "text/plain": [
              "<Figure size 864x576 with 1 Axes>"
            ]
          },
          "metadata": {
            "needs_background": "light"
          },
          "output_type": "display_data"
        }
      ],
      "source": [
        "plt.figure(figsize=(12,8))\n",
        "sns.distplot(df[mask][\"SALE PRICE\"], kde=True, color='blue')\n",
        "plt.title(\"Probability Density Function (SALE PRICE)\", fontsize=15);"
      ]
    },
    {
      "cell_type": "markdown",
      "metadata": {
        "id": "JD21Tk7h1rW7"
      },
      "source": [
        "Distribusi harga jual di daerah Alphabet City cenderung skew ke kiri yang mengindikasikan terdapat harga jual atas yang jauh dari rata-rata."
      ]
    },
    {
      "cell_type": "markdown",
      "metadata": {
        "id": "pF94iiUiwv_X"
      },
      "source": [
        "## **3.8. Bagaimana confidence interval untuk harga jual di daerah Alphabet City** (Confidence Interval)"
      ]
    },
    {
      "cell_type": "markdown",
      "metadata": {
        "id": "FXnwRWRqrd7f"
      },
      "source": [
        "Sebelumnya dikarenakan distribusi harga jual di Alphabet City masih belum berdistribusi normal, maka kita akan melakukan Central Limit Theorem untuk membuat distribusi data kita menjadi normal."
      ]
    },
    {
      "cell_type": "markdown",
      "metadata": {
        "id": "SoMN4Tu2sFAq"
      },
      "source": [
        "###Central Limit Theorem"
      ]
    },
    {
      "cell_type": "code",
      "execution_count": 30,
      "metadata": {
        "id": "-LSuPa8xw4TO"
      },
      "outputs": [],
      "source": [
        "# Mengambil sejumlah 1000 sample mean dari sejumlah 100 nilai acak.\n",
        "r = 100\n",
        "s = 1000\n",
        "sample_mean = []\n",
        "for i in range(s):\n",
        "    sample = np.random.choice(a=df[mask][\"SALE PRICE\"], size=r)\n",
        "    sample_mean.append(np.mean(sample))"
      ]
    },
    {
      "cell_type": "code",
      "execution_count": 31,
      "metadata": {
        "colab": {
          "base_uri": "https://localhost:8080/",
          "height": 570
        },
        "id": "_qUKdLYV06jn",
        "outputId": "4c320bdd-3e50-416f-d105-17ed1a3190f4"
      },
      "outputs": [
        {
          "name": "stderr",
          "output_type": "stream",
          "text": [
            "/usr/local/lib/python3.7/dist-packages/seaborn/distributions.py:2619: FutureWarning: `distplot` is a deprecated function and will be removed in a future version. Please adapt your code to use either `displot` (a figure-level function with similar flexibility) or `histplot` (an axes-level function for histograms).\n",
            "  warnings.warn(msg, FutureWarning)\n"
          ]
        },
        {
          "data": {
            "image/png": "[encoded data removed]",
            "text/plain": [
              "<Figure size 864x576 with 1 Axes>"
            ]
          },
          "metadata": {
            "needs_background": "light"
          },
          "output_type": "display_data"
        }
      ],
      "source": [
        "bin_edges = np.histogram(sample_mean)[1]\n",
        "plt.figure(figsize=(12,8))\n",
        "sns.distplot(sample_mean, kde=True, color='blue')\n",
        "plt.title('Sample Mean Distribution', fontsize=15)\n",
        "plt.xticks(np.round(bin_edges, 2))\n",
        "plt.xlabel(\"Mean SALE PRICE\");"
      ]
    },
    {
      "cell_type": "markdown",
      "metadata": {
        "id": "BKQZVsl65_EX"
      },
      "source": [
        "Dapat dilihat data yang kita punya sudah berdistribusi normal."
      ]
    },
    {
      "cell_type": "markdown",
      "metadata": {
        "id": "zL2qNsYI-L6A"
      },
      "source": [
        "Ringkasan statistik Sampling Distribution (sample size = 1000)"
      ]
    },
    {
      "cell_type": "code",
      "execution_count": 32,
      "metadata": {
        "colab": {
          "base_uri": "https://localhost:8080/"
        },
        "id": "d4_2-3mS6_vS",
        "outputId": "553700b6-0614-4a18-ae5f-e51d0fc0bf0e"
      },
      "outputs": [
        {
          "name": "stdout",
          "output_type": "stream",
          "text": [
            "Mean: 7205694.8021599995\n",
            "Median: 7198182.6\n",
            "Standard Deviation: 396369.3518316535\n",
            "Standard Error: 39636.93518316535\n",
            "Z-Score: 1.96\n"
          ]
        }
      ],
      "source": [
        "mean_sampling = np.mean(sample_mean)\n",
        "median_sampling = np.median(sample_mean)\n",
        "std_sampling = np.std(sample_mean)\n",
        "std_error = std_sampling/np.sqrt(r)\n",
        "z_score = 1.96\n",
        "\n",
        "\n",
        "print(f\"Mean: {mean_sampling}\")\n",
        "print(f\"Median: {median_sampling}\")\n",
        "print(f\"Standard Deviation: {std_sampling}\")\n",
        "print(f\"Standard Error: {std_error}\")\n",
        "print(f\"Z-Score: {z_score}\")"
      ]
    },
    {
      "cell_type": "markdown",
      "metadata": {
        "id": "PIIUvnej7mMR"
      },
      "source": [
        "Dapat dilihat juga bahwa mean dan median sudah cukup dekat, yang artinya data ini berdistribusi normal. Selanjutnya kita hitung batas 95% mean sample dari mean populasi."
      ]
    },
    {
      "cell_type": "code",
      "execution_count": 33,
      "metadata": {
        "colab": {
          "base_uri": "https://localhost:8080/"
        },
        "id": "axqEhDWXMx9V",
        "outputId": "95b5a112-d0a3-4f16-f85c-78e5257dc10f"
      },
      "outputs": [
        {
          "name": "stdout",
          "output_type": "stream",
          "text": [
            "7128006.409200995 < x < 7283383.195119004\n"
          ]
        }
      ],
      "source": [
        "lower = mean_sampling - (z_score * std_error)\n",
        "upper = mean_sampling + (z_score * std_error)\n",
        "\n",
        "print(f\"{lower} < x < {upper}\")"
      ]
    },
    {
      "cell_type": "code",
      "execution_count": 34,
      "metadata": {
        "colab": {
          "base_uri": "https://localhost:8080/",
          "height": 524
        },
        "id": "sZcNDrjXNiBQ",
        "outputId": "cbc9bf59-f995-415f-dbc8-59034631eb62"
      },
      "outputs": [
        {
          "data": {
            "text/plain": [
              "<matplotlib.collections.PolyCollection at 0x7feaf50ad7d0>"
            ]
          },
          "execution_count": 34,
          "metadata": {},
          "output_type": "execute_result"
        },
        {
          "data": {
            "image/png": "[encoded data removed]",
            "text/plain": [
              "<Figure size 864x576 with 1 Axes>"
            ]
          },
          "metadata": {
            "needs_background": "light"
          },
          "output_type": "display_data"
        }
      ],
      "source": [
        "plt.figure(figsize=(12,8))\n",
        "kde = stats.gaussian_kde(sample_mean)\n",
        "pos = np.linspace(np.min(sample_mean), np.max(sample_mean))\n",
        "plt.plot(pos, kde(pos), color='blue')\n",
        "shade = np.linspace(lower, upper)\n",
        "plt.fill_between(shade, kde(shade), alpha=0.3, color='blue')"
      ]
    },
    {
      "cell_type": "markdown",
      "metadata": {
        "id": "vijDolNf7XVz"
      },
      "source": [
        "Menurut hasil perhitungan diatas, mendapatkan nilai batas bawah sebesar 7117873.10 dan batas atas sebesar 7276194.00."
      ]
    },
    {
      "cell_type": "markdown",
      "metadata": {
        "id": "PWuZ1Lwp2Oud"
      },
      "source": [
        "## **3.9. Apakah ada hubungan antara SALE PRICE dan LAND SQUARE FEET (Hypothesis Testing)**"
      ]
    },
    {
      "cell_type": "markdown",
      "metadata": {
        "id": "5YKENfyRRSVN"
      },
      "source": [
        "Apakah ada hubungan antara SALE PRICE dan LAND SQUARE FEET?\n",
        "\n",
        "**H0**: Tidak ada hubungan antara SALE PRICE dan LAND SQUARE FEET\n",
        "\n",
        "**H1**: Ada hubungan antara SALE PRICE dan LAND SQUARE FEET"
      ]
    },
    {
      "cell_type": "code",
      "execution_count": 35,
      "metadata": {
        "colab": {
          "base_uri": "https://localhost:8080/"
        },
        "id": "CgsIRlIq2aSC",
        "outputId": "16ee60c4-7a03-4377-b377-4cf7b285928b"
      },
      "outputs": [
        {
          "data": {
            "text/plain": [
              "2.316881472668383e-11"
            ]
          },
          "execution_count": 35,
          "metadata": {},
          "output_type": "execute_result"
        }
      ],
      "source": [
        "# Filter data untuk wilayah Manhattan dan Bronx\n",
        "stat, p = stats.pearsonr(df[\"SALE PRICE\"], df[\"LAND SQUARE FEET\"])\n",
        "p"
      ]
    },
    {
      "cell_type": "markdown",
      "metadata": {
        "id": "9F3kYMTH6ytH"
      },
      "source": [
        "Dapat dilihat bahwa nilai p kurang dari 0.05, yang artinya **H1** diterima (Ada hubungan antara SALE PRICE dan LAND SQUARE FEET)."
      ]
    },
    {
      "cell_type": "markdown",
      "metadata": {
        "id": "2UzQVa9BwH61"
      },
      "source": [
        "---"
      ]
    },
    {
      "cell_type": "markdown",
      "metadata": {
        "id": "u7mq6A9itf4Q"
      },
      "source": [
        "# **4. Kesimpulan**\n",
        "\n",
        "1. Manhattan menjadi wilayah yang setidaknya memiliki harga penjualan paling tinggi, yaitu sebesar 6,500,000.00 USD Dollar dan Bronx mempunyai nilai setidaknya yang paling rendah, yaitu sebesar 480,000.00 USD Dollar. \n",
        "2. 4469.91 square feet menjadi rata-rata luas tanah yang terjual di wilayah Bronx.\n",
        "3. Properti yang dibangun pada tahun 1970 menjadi yang paling banyak terjual di wilayah Staten Island dengan jumlah 348 yang terjual di tahun 2016-2017.\n",
        "4. Pada daerah Alphabet City memiliki rentang harga properti yang berkisar 13,039,160 USD Dollar dengan luas bangunan terkecil sebesar 3,192,840 USD Dollar dan terbesar sebesar 16,232,000 USD Dollar.\n",
        "5. Harga jual di daerah Alphabet City tidak memiliki distribusi normal (skew ke kiri), yang artinya ada properti yang terjual di harga sangat tinggi dari rata-rata harga properti di daerah Alphabet City.\n",
        "6. Ada hubungan antara SALE PRICE dan LAND SQUARE FEET.\n",
        "\n",
        "Tetapi, dibutuhkan analisis yang lebih lanjut dan dalam untuk menemukan insight menarik lainnya.\n",
        "\n",
        "---\n",
        "Sekian dari saya terima kasih!\n",
        "\n",
        "Salam hormat,\n",
        "\n",
        "Fikri Fahreza"
      ]
    }
  ],
  "metadata": {
    "colab": {
      "collapsed_sections": [],
      "provenance": [],
      "toc_visible": true
    },
    "kernelspec": {
      "display_name": "Python 3.9.1 64-bit",
      "language": "python",
      "name": "python3"
    },
    "language_info": {
      "name": "python",
      "version": "3.9.1"
    },
    "vscode": {
      "interpreter": {
        "hash": "db770a79811cf06dd2eb2d8661a865789fd9658586cf1984ee660fb686aab52b"
      }
    }
  },
  "nbformat": 4,
  "nbformat_minor": 0
}
