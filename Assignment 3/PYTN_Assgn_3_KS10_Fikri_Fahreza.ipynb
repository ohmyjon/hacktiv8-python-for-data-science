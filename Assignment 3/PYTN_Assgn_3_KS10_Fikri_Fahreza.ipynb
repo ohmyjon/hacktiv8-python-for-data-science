{
  "nbformat": 4,
  "nbformat_minor": 0,
  "metadata": {
    "colab": {
      "provenance": [],
      "collapsed_sections": [],
      "toc_visible": true
    },
    "kernelspec": {
      "name": "python3",
      "display_name": "Python 3"
    },
    "language_info": {
      "name": "python"
    }
  },
  "cells": [
    {
      "cell_type": "markdown",
      "source": [
        "# **Python for Data Science Assignment 3 - Bank Marketing**\n",
        "\n",
        "Fikri Fahreza\n",
        "\n",
        "KS10-015\n"
      ],
      "metadata": {
        "id": "2GgG9XS3xXeQ"
      }
    },
    {
      "cell_type": "markdown",
      "source": [
        "---"
      ],
      "metadata": {
        "id": "teQ-blxfx26c"
      }
    },
    {
      "cell_type": "markdown",
      "source": [
        "## **Download dataset**"
      ],
      "metadata": {
        "id": "GdObwhmlbe1E"
      }
    },
    {
      "cell_type": "code",
      "source": [
        "! pip install wget\n",
        "! pip install category_encoders\n",
        "! pip install imblearn"
      ],
      "metadata": {
        "colab": {
          "base_uri": "https://localhost:8080/"
        },
        "id": "DvyfAF6--oaq",
        "outputId": "7987dcf6-b1be-458c-f498-e9fab3a6b223"
      },
      "execution_count": 1,
      "outputs": [
        {
          "output_type": "stream",
          "name": "stdout",
          "text": [
            "Looking in indexes: https://pypi.org/simple, https://us-python.pkg.dev/colab-wheels/public/simple/\n",
            "Collecting wget\n",
            "  Downloading wget-3.2.zip (10 kB)\n",
            "Building wheels for collected packages: wget\n",
            "  Building wheel for wget (setup.py) ... \u001b[?25l\u001b[?25hdone\n",
            "  Created wheel for wget: filename=wget-3.2-py3-none-any.whl size=9675 sha256=6784fc22fe1e503a954975457b082f0bb2f8527090ea8de9d703da02e1139eee\n",
            "  Stored in directory: /root/.cache/pip/wheels/a1/b6/7c/0e63e34eb06634181c63adacca38b79ff8f35c37e3c13e3c02\n",
            "Successfully built wget\n",
            "Installing collected packages: wget\n",
            "Successfully installed wget-3.2\n",
            "Looking in indexes: https://pypi.org/simple, https://us-python.pkg.dev/colab-wheels/public/simple/\n",
            "Collecting category_encoders\n",
            "  Downloading category_encoders-2.5.1.post0-py2.py3-none-any.whl (72 kB)\n",
            "\u001b[K     |████████████████████████████████| 72 kB 723 kB/s \n",
            "\u001b[?25hRequirement already satisfied: pandas>=1.0.5 in /usr/local/lib/python3.7/dist-packages (from category_encoders) (1.3.5)\n",
            "Requirement already satisfied: scipy>=1.0.0 in /usr/local/lib/python3.7/dist-packages (from category_encoders) (1.7.3)\n",
            "Requirement already satisfied: patsy>=0.5.1 in /usr/local/lib/python3.7/dist-packages (from category_encoders) (0.5.3)\n",
            "Requirement already satisfied: statsmodels>=0.9.0 in /usr/local/lib/python3.7/dist-packages (from category_encoders) (0.12.2)\n",
            "Requirement already satisfied: scikit-learn>=0.20.0 in /usr/local/lib/python3.7/dist-packages (from category_encoders) (1.0.2)\n",
            "Requirement already satisfied: numpy>=1.14.0 in /usr/local/lib/python3.7/dist-packages (from category_encoders) (1.21.6)\n",
            "Requirement already satisfied: python-dateutil>=2.7.3 in /usr/local/lib/python3.7/dist-packages (from pandas>=1.0.5->category_encoders) (2.8.2)\n",
            "Requirement already satisfied: pytz>=2017.3 in /usr/local/lib/python3.7/dist-packages (from pandas>=1.0.5->category_encoders) (2022.4)\n",
            "Requirement already satisfied: six in /usr/local/lib/python3.7/dist-packages (from patsy>=0.5.1->category_encoders) (1.15.0)\n",
            "Requirement already satisfied: threadpoolctl>=2.0.0 in /usr/local/lib/python3.7/dist-packages (from scikit-learn>=0.20.0->category_encoders) (3.1.0)\n",
            "Requirement already satisfied: joblib>=0.11 in /usr/local/lib/python3.7/dist-packages (from scikit-learn>=0.20.0->category_encoders) (1.2.0)\n",
            "Installing collected packages: category-encoders\n",
            "Successfully installed category-encoders-2.5.1.post0\n",
            "Looking in indexes: https://pypi.org/simple, https://us-python.pkg.dev/colab-wheels/public/simple/\n",
            "Requirement already satisfied: imblearn in /usr/local/lib/python3.7/dist-packages (0.0)\n",
            "Requirement already satisfied: imbalanced-learn in /usr/local/lib/python3.7/dist-packages (from imblearn) (0.8.1)\n",
            "Requirement already satisfied: scikit-learn>=0.24 in /usr/local/lib/python3.7/dist-packages (from imbalanced-learn->imblearn) (1.0.2)\n",
            "Requirement already satisfied: numpy>=1.13.3 in /usr/local/lib/python3.7/dist-packages (from imbalanced-learn->imblearn) (1.21.6)\n",
            "Requirement already satisfied: scipy>=0.19.1 in /usr/local/lib/python3.7/dist-packages (from imbalanced-learn->imblearn) (1.7.3)\n",
            "Requirement already satisfied: joblib>=0.11 in /usr/local/lib/python3.7/dist-packages (from imbalanced-learn->imblearn) (1.2.0)\n",
            "Requirement already satisfied: threadpoolctl>=2.0.0 in /usr/local/lib/python3.7/dist-packages (from scikit-learn>=0.24->imbalanced-learn->imblearn) (3.1.0)\n"
          ]
        }
      ]
    },
    {
      "cell_type": "code",
      "execution_count": 2,
      "metadata": {
        "id": "ncqvw-MFfr0K"
      },
      "outputs": [],
      "source": [
        "# Import wget\n",
        "import wget"
      ]
    },
    {
      "cell_type": "code",
      "source": [
        "# Download dataset\n",
        "wget.download(\"https://archive.ics.uci.edu/ml/machine-learning-databases/00222/bank-additional.zip\")\n",
        "wget.download(\"https://archive.ics.uci.edu/ml/machine-learning-databases/00222/bank.zip\")"
      ],
      "metadata": {
        "colab": {
          "base_uri": "https://localhost:8080/",
          "height": 36
        },
        "id": "6cUPnLCh_NpS",
        "outputId": "8a55f817-9311-4c46-a2c7-60da1098ba1f"
      },
      "execution_count": 3,
      "outputs": [
        {
          "output_type": "execute_result",
          "data": {
            "text/plain": [
              "'bank.zip'"
            ],
            "application/vnd.google.colaboratory.intrinsic+json": {
              "type": "string"
            }
          },
          "metadata": {},
          "execution_count": 3
        }
      ]
    },
    {
      "cell_type": "code",
      "source": [
        "# Ekstrak zip\n",
        "!unzip bank-additional.zip\n",
        "!unzip bank.zip"
      ],
      "metadata": {
        "colab": {
          "base_uri": "https://localhost:8080/"
        },
        "id": "6NQm5oCqVNEW",
        "outputId": "56535002-12fd-41df-cc33-efe10da35967"
      },
      "execution_count": 4,
      "outputs": [
        {
          "output_type": "stream",
          "name": "stdout",
          "text": [
            "Archive:  bank-additional.zip\n",
            "   creating: bank-additional/\n",
            "  inflating: bank-additional/.DS_Store  \n",
            "   creating: __MACOSX/\n",
            "   creating: __MACOSX/bank-additional/\n",
            "  inflating: __MACOSX/bank-additional/._.DS_Store  \n",
            "  inflating: bank-additional/.Rhistory  \n",
            "  inflating: bank-additional/bank-additional-full.csv  \n",
            "  inflating: bank-additional/bank-additional-names.txt  \n",
            "  inflating: bank-additional/bank-additional.csv  \n",
            "  inflating: __MACOSX/._bank-additional  \n",
            "Archive:  bank.zip\n",
            "  inflating: bank-full.csv           \n",
            "  inflating: bank-names.txt          \n",
            "  inflating: bank.csv                \n"
          ]
        }
      ]
    },
    {
      "cell_type": "code",
      "source": [
        "# Moving files\n",
        "!mv \"/content/bank-additional/bank-additional-full.csv\" \"/content\"\n",
        "!mv \"/content/bank-additional/bank-additional.csv\" \"/content\"\n",
        "!mv \"/content/bank-additional/bank-additional-names.txt\" \"/content\""
      ],
      "metadata": {
        "id": "zuhoLMIyHfow"
      },
      "execution_count": 5,
      "outputs": []
    },
    {
      "cell_type": "markdown",
      "source": [
        "# **Pengenalan**\n",
        "Halo! Nama saya Fikri Fahreza, ini adalah tugas ketiga saya yang dipublikasi, dengan menggunakan Bank Marketing Dataset dari UCI.\n",
        "\n",
        "Saya berharap dari tugas ini bisa menghasilkan *feedback* atau komentar tentang analisis ini.\n",
        "\n",
        "LinkedIn: https://www.linkedin.com/in/fikri-fahreza/"
      ],
      "metadata": {
        "id": "f1aufWqbVrcM"
      }
    },
    {
      "cell_type": "markdown",
      "source": [
        "---"
      ],
      "metadata": {
        "id": "dPp72bG8x1D7"
      }
    },
    {
      "cell_type": "markdown",
      "source": [
        "# **1. Konteks**\n",
        "Dataset ini terkait dengan kampanye pemasaran langsung dari lembaga perbankan Portugal. Kampanye pemasaran didasarkan pada panggilan telepon. Seringkali, diperlukan lebih dari satu panggilan ke klien yang sama, untuk mengetahui apakah produk (deposito berjangka bank) akan ('ya') atau ('tidak') berlangganan. Data ini berasal dari UCI Machine Learning Repository, lebih tepatnya pada link berikut ini: https://archive.ics.uci.edu/ml/datasets/Bank+Marketing"
      ],
      "metadata": {
        "id": "4F0a2HWnWfFT"
      }
    },
    {
      "cell_type": "markdown",
      "source": [
        "## **1.1. Atribut data**\n",
        "1. age (numeric)\n",
        "2. job : type of job (categorical: 'admin.','blue-collar','entrepreneur','housemaid','management','retired','self-employed','services','student','technician','unemployed','unknown')\n",
        "3. marital : marital status (categorical: 'divorced','married','single','unknown'; note: 'divorced' means divorced or widowed)\n",
        "4. education (categorical: 'basic.4y','basic.6y','basic.9y','high.school','illiterate','professional.course','university.degree','unknown')\n",
        "5. default: has credit in default? (categorical: 'no','yes','unknown')\n",
        "6. housing: has housing loan? (categorical: 'no','yes','unknown')\n",
        "7. loan: has personal loan? (categorical: 'no','yes','unknown')\n",
        "* Related with the last contact of the current campaign:\n",
        "8. contact: contact communication type (categorical: 'cellular','telephone')\n",
        "9. month: last contact month of year (categorical: 'jan', 'feb', 'mar', ..., 'nov', 'dec')\n",
        "10. day_of_week: last contact day of the week (categorical: 'mon','tue','wed','thu','fri')\n",
        "11. duration: last contact duration, in seconds (numeric). Important note: this attribute highly affects the output target (e.g., if duration=0 then y='no'). Yet, the duration is not known before a call is performed. Also, after the end of the call y is obviously known. Thus, this input should only be included for benchmark purposes and should be discarded if the intention is to have a realistic predictive model.\n",
        "* Other attributes:\n",
        "12. campaign: number of contacts performed during this campaign and for this client (numeric, includes last contact)\n",
        "13. pdays: number of days that passed by after the client was last contacted from a previous campaign (numeric; 999 means client was not previously contacted)\n",
        "14. previous: number of contacts performed before this campaign and for this client (numeric)\n",
        "15. poutcome: outcome of the previous marketing campaign (categorical: 'failure','nonexistent','success')\n",
        "* Social and economic context attributes\n",
        "16. emp.var.rate: employment variation rate - quarterly indicator (numeric)\n",
        "17. cons.price.idx: consumer price index - monthly indicator (numeric)\n",
        "18. cons.conf.idx: consumer confidence index - monthly indicator (numeric)\n",
        "19. euribor3m: euribor 3 month rate - daily indicator (numeric)\n",
        "20. nr.employed: number of employees - quarterly indicator (numeric)\n",
        "* Output variable (desired target):\n",
        "21. y: has the client subscribed a term deposit? (binary: 'yes','no')"
      ],
      "metadata": {
        "id": "yTN1ImeGXLcT"
      }
    },
    {
      "cell_type": "markdown",
      "source": [
        "## **1.2. Tujuan**\n",
        "\n",
        "Membuat model klasifikasi dengan menggunakan Bank Marketing Dataset."
      ],
      "metadata": {
        "id": "OzqlJuE5ZyqC"
      }
    },
    {
      "cell_type": "markdown",
      "source": [
        "\n",
        "\n",
        "---\n",
        "\n"
      ],
      "metadata": {
        "id": "4tX-lJGVweXj"
      }
    },
    {
      "cell_type": "markdown",
      "source": [
        "# **2. Data Preprocessing**\n",
        "\n",
        "Pada bagian ini, kita akan melakukan import data, transformasi, dan lain sebagainya. Tujuannya agar data sudah siap kita olah, *yummy!*"
      ],
      "metadata": {
        "id": "8Ac1ac3-pQnb"
      }
    },
    {
      "cell_type": "markdown",
      "source": [
        "## **2.1. Import data dan library**"
      ],
      "metadata": {
        "id": "yV2_29EnrV5k"
      }
    },
    {
      "cell_type": "code",
      "source": [
        "# Preprocessing tools\n",
        "import pandas as pd\n",
        "import numpy as np\n",
        "\n",
        "# Visualization tools\n",
        "import matplotlib.pyplot as plt\n",
        "import seaborn as sns\n",
        "\n",
        "# Machine Learning tools\n",
        "from category_encoders import OneHotEncoder, OrdinalEncoder\n",
        "from sklearn.model_selection import train_test_split\n",
        "from sklearn.preprocessing import StandardScaler\n",
        "from sklearn.metrics import accuracy_score, classification_report, ConfusionMatrixDisplay\n",
        "from sklearn.pipeline import make_pipeline\n",
        "from imblearn.over_sampling import RandomOverSampler\n",
        "\n",
        "from sklearn.linear_model import LogisticRegression\n",
        "from sklearn.ensemble import RandomForestClassifier\n",
        "from sklearn.tree import DecisionTreeClassifier\n",
        "from sklearn.naive_bayes import GaussianNB\n",
        "from sklearn.svm import SVC\n",
        "from sklearn.neighbors import KNeighborsClassifier\n",
        "\n"
      ],
      "metadata": {
        "id": "h44AOYjepd1e"
      },
      "execution_count": 6,
      "outputs": []
    },
    {
      "cell_type": "code",
      "source": [
        "# Membaca CSV ke DataFrame\n",
        "df = pd.read_csv(\"bank-additional-full.csv\", delimiter=\";\")"
      ],
      "metadata": {
        "id": "YsZtcVfZqLbW"
      },
      "execution_count": 7,
      "outputs": []
    },
    {
      "cell_type": "markdown",
      "source": [
        "## **2.2. Memeriksa dan bersihkan data**\n",
        "\n",
        "Kita akan memeriksa data, jika terdapat *missing values* atau terdapat bagian tidak sesuai dengan yang kita harapkan, maka bisa langsung kita bersihkan, untuk menghindari hasil analisa yang *bias* atau *unfair*. \n",
        "\n",
        "*Garbage In Garbage Out!*"
      ],
      "metadata": {
        "id": "1MAPNYgHrJ9g"
      }
    },
    {
      "cell_type": "code",
      "source": [
        "# Menampilkan 5 data teratas\n",
        "df.head()"
      ],
      "metadata": {
        "colab": {
          "base_uri": "https://localhost:8080/",
          "height": 299
        },
        "id": "eX-f_vkuqRLe",
        "outputId": "2a1ea2e0-129e-41a1-f3b0-e51ceb81e5e4"
      },
      "execution_count": 8,
      "outputs": [
        {
          "output_type": "execute_result",
          "data": {
            "text/plain": [
              "   age        job  marital    education  default housing loan    contact  \\\n",
              "0   56  housemaid  married     basic.4y       no      no   no  telephone   \n",
              "1   57   services  married  high.school  unknown      no   no  telephone   \n",
              "2   37   services  married  high.school       no     yes   no  telephone   \n",
              "3   40     admin.  married     basic.6y       no      no   no  telephone   \n",
              "4   56   services  married  high.school       no      no  yes  telephone   \n",
              "\n",
              "  month day_of_week  ...  campaign  pdays  previous     poutcome emp.var.rate  \\\n",
              "0   may         mon  ...         1    999         0  nonexistent          1.1   \n",
              "1   may         mon  ...         1    999         0  nonexistent          1.1   \n",
              "2   may         mon  ...         1    999         0  nonexistent          1.1   \n",
              "3   may         mon  ...         1    999         0  nonexistent          1.1   \n",
              "4   may         mon  ...         1    999         0  nonexistent          1.1   \n",
              "\n",
              "   cons.price.idx  cons.conf.idx  euribor3m  nr.employed   y  \n",
              "0          93.994          -36.4      4.857       5191.0  no  \n",
              "1          93.994          -36.4      4.857       5191.0  no  \n",
              "2          93.994          -36.4      4.857       5191.0  no  \n",
              "3          93.994          -36.4      4.857       5191.0  no  \n",
              "4          93.994          -36.4      4.857       5191.0  no  \n",
              "\n",
              "[5 rows x 21 columns]"
            ],
            "text/html": [
              "\n",
              "  <div id=\"df-1177ea51-d500-483e-910d-0fb31baf45cc\">\n",
              "    <div class=\"colab-df-container\">\n",
              "      <div>\n",
              "<style scoped>\n",
              "    .dataframe tbody tr th:only-of-type {\n",
              "        vertical-align: middle;\n",
              "    }\n",
              "\n",
              "    .dataframe tbody tr th {\n",
              "        vertical-align: top;\n",
              "    }\n",
              "\n",
              "    .dataframe thead th {\n",
              "        text-align: right;\n",
              "    }\n",
              "</style>\n",
              "<table border=\"1\" class=\"dataframe\">\n",
              "  <thead>\n",
              "    <tr style=\"text-align: right;\">\n",
              "      <th></th>\n",
              "      <th>age</th>\n",
              "      <th>job</th>\n",
              "      <th>marital</th>\n",
              "      <th>education</th>\n",
              "      <th>default</th>\n",
              "      <th>housing</th>\n",
              "      <th>loan</th>\n",
              "      <th>contact</th>\n",
              "      <th>month</th>\n",
              "      <th>day_of_week</th>\n",
              "      <th>...</th>\n",
              "      <th>campaign</th>\n",
              "      <th>pdays</th>\n",
              "      <th>previous</th>\n",
              "      <th>poutcome</th>\n",
              "      <th>emp.var.rate</th>\n",
              "      <th>cons.price.idx</th>\n",
              "      <th>cons.conf.idx</th>\n",
              "      <th>euribor3m</th>\n",
              "      <th>nr.employed</th>\n",
              "      <th>y</th>\n",
              "    </tr>\n",
              "  </thead>\n",
              "  <tbody>\n",
              "    <tr>\n",
              "      <th>0</th>\n",
              "      <td>56</td>\n",
              "      <td>housemaid</td>\n",
              "      <td>married</td>\n",
              "      <td>basic.4y</td>\n",
              "      <td>no</td>\n",
              "      <td>no</td>\n",
              "      <td>no</td>\n",
              "      <td>telephone</td>\n",
              "      <td>may</td>\n",
              "      <td>mon</td>\n",
              "      <td>...</td>\n",
              "      <td>1</td>\n",
              "      <td>999</td>\n",
              "      <td>0</td>\n",
              "      <td>nonexistent</td>\n",
              "      <td>1.1</td>\n",
              "      <td>93.994</td>\n",
              "      <td>-36.4</td>\n",
              "      <td>4.857</td>\n",
              "      <td>5191.0</td>\n",
              "      <td>no</td>\n",
              "    </tr>\n",
              "    <tr>\n",
              "      <th>1</th>\n",
              "      <td>57</td>\n",
              "      <td>services</td>\n",
              "      <td>married</td>\n",
              "      <td>high.school</td>\n",
              "      <td>unknown</td>\n",
              "      <td>no</td>\n",
              "      <td>no</td>\n",
              "      <td>telephone</td>\n",
              "      <td>may</td>\n",
              "      <td>mon</td>\n",
              "      <td>...</td>\n",
              "      <td>1</td>\n",
              "      <td>999</td>\n",
              "      <td>0</td>\n",
              "      <td>nonexistent</td>\n",
              "      <td>1.1</td>\n",
              "      <td>93.994</td>\n",
              "      <td>-36.4</td>\n",
              "      <td>4.857</td>\n",
              "      <td>5191.0</td>\n",
              "      <td>no</td>\n",
              "    </tr>\n",
              "    <tr>\n",
              "      <th>2</th>\n",
              "      <td>37</td>\n",
              "      <td>services</td>\n",
              "      <td>married</td>\n",
              "      <td>high.school</td>\n",
              "      <td>no</td>\n",
              "      <td>yes</td>\n",
              "      <td>no</td>\n",
              "      <td>telephone</td>\n",
              "      <td>may</td>\n",
              "      <td>mon</td>\n",
              "      <td>...</td>\n",
              "      <td>1</td>\n",
              "      <td>999</td>\n",
              "      <td>0</td>\n",
              "      <td>nonexistent</td>\n",
              "      <td>1.1</td>\n",
              "      <td>93.994</td>\n",
              "      <td>-36.4</td>\n",
              "      <td>4.857</td>\n",
              "      <td>5191.0</td>\n",
              "      <td>no</td>\n",
              "    </tr>\n",
              "    <tr>\n",
              "      <th>3</th>\n",
              "      <td>40</td>\n",
              "      <td>admin.</td>\n",
              "      <td>married</td>\n",
              "      <td>basic.6y</td>\n",
              "      <td>no</td>\n",
              "      <td>no</td>\n",
              "      <td>no</td>\n",
              "      <td>telephone</td>\n",
              "      <td>may</td>\n",
              "      <td>mon</td>\n",
              "      <td>...</td>\n",
              "      <td>1</td>\n",
              "      <td>999</td>\n",
              "      <td>0</td>\n",
              "      <td>nonexistent</td>\n",
              "      <td>1.1</td>\n",
              "      <td>93.994</td>\n",
              "      <td>-36.4</td>\n",
              "      <td>4.857</td>\n",
              "      <td>5191.0</td>\n",
              "      <td>no</td>\n",
              "    </tr>\n",
              "    <tr>\n",
              "      <th>4</th>\n",
              "      <td>56</td>\n",
              "      <td>services</td>\n",
              "      <td>married</td>\n",
              "      <td>high.school</td>\n",
              "      <td>no</td>\n",
              "      <td>no</td>\n",
              "      <td>yes</td>\n",
              "      <td>telephone</td>\n",
              "      <td>may</td>\n",
              "      <td>mon</td>\n",
              "      <td>...</td>\n",
              "      <td>1</td>\n",
              "      <td>999</td>\n",
              "      <td>0</td>\n",
              "      <td>nonexistent</td>\n",
              "      <td>1.1</td>\n",
              "      <td>93.994</td>\n",
              "      <td>-36.4</td>\n",
              "      <td>4.857</td>\n",
              "      <td>5191.0</td>\n",
              "      <td>no</td>\n",
              "    </tr>\n",
              "  </tbody>\n",
              "</table>\n",
              "<p>5 rows × 21 columns</p>\n",
              "</div>\n",
              "      <button class=\"colab-df-convert\" onclick=\"convertToInteractive('df-1177ea51-d500-483e-910d-0fb31baf45cc')\"\n",
              "              title=\"Convert this dataframe to an interactive table.\"\n",
              "              style=\"display:none;\">\n",
              "        \n",
              "  <svg xmlns=\"http://www.w3.org/2000/svg\" height=\"24px\"viewBox=\"0 0 24 24\"\n",
              "       width=\"24px\">\n",
              "    <path d=\"M0 0h24v24H0V0z\" fill=\"none\"/>\n",
              "    <path d=\"M18.56 5.44l.94 2.06.94-2.06 2.06-.94-2.06-.94-.94-2.06-.94 2.06-2.06.94zm-11 1L8.5 8.5l.94-2.06 2.06-.94-2.06-.94L8.5 2.5l-.94 2.06-2.06.94zm10 10l.94 2.06.94-2.06 2.06-.94-2.06-.94-.94-2.06-.94 2.06-2.06.94z\"/><path d=\"M17.41 7.96l-1.37-1.37c-.4-.4-.92-.59-1.43-.59-.52 0-1.04.2-1.43.59L10.3 9.45l-7.72 7.72c-.78.78-.78 2.05 0 2.83L4 21.41c.39.39.9.59 1.41.59.51 0 1.02-.2 1.41-.59l7.78-7.78 2.81-2.81c.8-.78.8-2.07 0-2.86zM5.41 20L4 18.59l7.72-7.72 1.47 1.35L5.41 20z\"/>\n",
              "  </svg>\n",
              "      </button>\n",
              "      \n",
              "  <style>\n",
              "    .colab-df-container {\n",
              "      display:flex;\n",
              "      flex-wrap:wrap;\n",
              "      gap: 12px;\n",
              "    }\n",
              "\n",
              "    .colab-df-convert {\n",
              "      background-color: #E8F0FE;\n",
              "      border: none;\n",
              "      border-radius: 50%;\n",
              "      cursor: pointer;\n",
              "      display: none;\n",
              "      fill: #1967D2;\n",
              "      height: 32px;\n",
              "      padding: 0 0 0 0;\n",
              "      width: 32px;\n",
              "    }\n",
              "\n",
              "    .colab-df-convert:hover {\n",
              "      background-color: #E2EBFA;\n",
              "      box-shadow: 0px 1px 2px rgba(60, 64, 67, 0.3), 0px 1px 3px 1px rgba(60, 64, 67, 0.15);\n",
              "      fill: #174EA6;\n",
              "    }\n",
              "\n",
              "    [theme=dark] .colab-df-convert {\n",
              "      background-color: #3B4455;\n",
              "      fill: #D2E3FC;\n",
              "    }\n",
              "\n",
              "    [theme=dark] .colab-df-convert:hover {\n",
              "      background-color: #434B5C;\n",
              "      box-shadow: 0px 1px 3px 1px rgba(0, 0, 0, 0.15);\n",
              "      filter: drop-shadow(0px 1px 2px rgba(0, 0, 0, 0.3));\n",
              "      fill: #FFFFFF;\n",
              "    }\n",
              "  </style>\n",
              "\n",
              "      <script>\n",
              "        const buttonEl =\n",
              "          document.querySelector('#df-1177ea51-d500-483e-910d-0fb31baf45cc button.colab-df-convert');\n",
              "        buttonEl.style.display =\n",
              "          google.colab.kernel.accessAllowed ? 'block' : 'none';\n",
              "\n",
              "        async function convertToInteractive(key) {\n",
              "          const element = document.querySelector('#df-1177ea51-d500-483e-910d-0fb31baf45cc');\n",
              "          const dataTable =\n",
              "            await google.colab.kernel.invokeFunction('convertToInteractive',\n",
              "                                                     [key], {});\n",
              "          if (!dataTable) return;\n",
              "\n",
              "          const docLinkHtml = 'Like what you see? Visit the ' +\n",
              "            '<a target=\"_blank\" href=https://colab.research.google.com/notebooks/data_table.ipynb>data table notebook</a>'\n",
              "            + ' to learn more about interactive tables.';\n",
              "          element.innerHTML = '';\n",
              "          dataTable['output_type'] = 'display_data';\n",
              "          await google.colab.output.renderOutput(dataTable, element);\n",
              "          const docLink = document.createElement('div');\n",
              "          docLink.innerHTML = docLinkHtml;\n",
              "          element.appendChild(docLink);\n",
              "        }\n",
              "      </script>\n",
              "    </div>\n",
              "  </div>\n",
              "  "
            ]
          },
          "metadata": {},
          "execution_count": 8
        }
      ]
    },
    {
      "cell_type": "markdown",
      "source": [
        "Berikut contoh data yang terdapat didalam dataset terkait."
      ],
      "metadata": {
        "id": "jiasf_4tvk3B"
      }
    },
    {
      "cell_type": "code",
      "source": [
        "# Informasi terkait tipe data, nama kolom\n",
        "df.info()"
      ],
      "metadata": {
        "colab": {
          "base_uri": "https://localhost:8080/"
        },
        "id": "RO90FYTHsQS_",
        "outputId": "5fce10db-c5b5-4232-ff44-7b2b722bf705"
      },
      "execution_count": 9,
      "outputs": [
        {
          "output_type": "stream",
          "name": "stdout",
          "text": [
            "<class 'pandas.core.frame.DataFrame'>\n",
            "RangeIndex: 41188 entries, 0 to 41187\n",
            "Data columns (total 21 columns):\n",
            " #   Column          Non-Null Count  Dtype  \n",
            "---  ------          --------------  -----  \n",
            " 0   age             41188 non-null  int64  \n",
            " 1   job             41188 non-null  object \n",
            " 2   marital         41188 non-null  object \n",
            " 3   education       41188 non-null  object \n",
            " 4   default         41188 non-null  object \n",
            " 5   housing         41188 non-null  object \n",
            " 6   loan            41188 non-null  object \n",
            " 7   contact         41188 non-null  object \n",
            " 8   month           41188 non-null  object \n",
            " 9   day_of_week     41188 non-null  object \n",
            " 10  duration        41188 non-null  int64  \n",
            " 11  campaign        41188 non-null  int64  \n",
            " 12  pdays           41188 non-null  int64  \n",
            " 13  previous        41188 non-null  int64  \n",
            " 14  poutcome        41188 non-null  object \n",
            " 15  emp.var.rate    41188 non-null  float64\n",
            " 16  cons.price.idx  41188 non-null  float64\n",
            " 17  cons.conf.idx   41188 non-null  float64\n",
            " 18  euribor3m       41188 non-null  float64\n",
            " 19  nr.employed     41188 non-null  float64\n",
            " 20  y               41188 non-null  object \n",
            "dtypes: float64(5), int64(5), object(11)\n",
            "memory usage: 6.6+ MB\n"
          ]
        }
      ]
    },
    {
      "cell_type": "markdown",
      "source": [
        "Bisa kita lihat bahwa tidak terdapat *missing values* dari dataset ini. Selanjutnya, kita akan membagi kolom numerik dan kategorik, tujuannya untuk memeriksa *unique values*."
      ],
      "metadata": {
        "id": "LkuvoH5eselU"
      }
    },
    {
      "cell_type": "code",
      "source": [
        "# Subset kolom berdasarkan tipe data\n",
        "categorical_col = df.select_dtypes(include=\"object\").columns.values\n",
        "numerical_col = df.select_dtypes(include=[\"int64\", \"float64\"]).columns.values\n",
        "\n",
        "print(f\"Kolom kategorik: {categorical_col}\")\n",
        "print(f\"Kolom numerik: {numerical_col}\")"
      ],
      "metadata": {
        "colab": {
          "base_uri": "https://localhost:8080/"
        },
        "id": "XR-JhT7yF3kl",
        "outputId": "19ab8893-2f11-4c61-c10b-b85fe5009bb9"
      },
      "execution_count": 10,
      "outputs": [
        {
          "output_type": "stream",
          "name": "stdout",
          "text": [
            "Kolom kategorik: ['job' 'marital' 'education' 'default' 'housing' 'loan' 'contact' 'month'\n",
            " 'day_of_week' 'poutcome' 'y']\n",
            "Kolom numerik: ['age' 'duration' 'campaign' 'pdays' 'previous' 'emp.var.rate'\n",
            " 'cons.price.idx' 'cons.conf.idx' 'euribor3m' 'nr.employed']\n"
          ]
        }
      ]
    },
    {
      "cell_type": "code",
      "source": [
        "# Melihat unique values yang terdapat di setiap kolom (kategorikal)\n",
        "for col in categorical_col:\n",
        "  print(f\"Unique values ({col} column): {df[col].unique()}\")\n",
        "  print(\"=\" * 100)"
      ],
      "metadata": {
        "colab": {
          "base_uri": "https://localhost:8080/"
        },
        "id": "eUNv1K12HzQY",
        "outputId": "c3d8cc71-6d72-4055-dbad-4ed2d82bb783"
      },
      "execution_count": 11,
      "outputs": [
        {
          "output_type": "stream",
          "name": "stdout",
          "text": [
            "Unique values (job column): ['housemaid' 'services' 'admin.' 'blue-collar' 'technician' 'retired'\n",
            " 'management' 'unemployed' 'self-employed' 'unknown' 'entrepreneur'\n",
            " 'student']\n",
            "====================================================================================================\n",
            "Unique values (marital column): ['married' 'single' 'divorced' 'unknown']\n",
            "====================================================================================================\n",
            "Unique values (education column): ['basic.4y' 'high.school' 'basic.6y' 'basic.9y' 'professional.course'\n",
            " 'unknown' 'university.degree' 'illiterate']\n",
            "====================================================================================================\n",
            "Unique values (default column): ['no' 'unknown' 'yes']\n",
            "====================================================================================================\n",
            "Unique values (housing column): ['no' 'yes' 'unknown']\n",
            "====================================================================================================\n",
            "Unique values (loan column): ['no' 'yes' 'unknown']\n",
            "====================================================================================================\n",
            "Unique values (contact column): ['telephone' 'cellular']\n",
            "====================================================================================================\n",
            "Unique values (month column): ['may' 'jun' 'jul' 'aug' 'oct' 'nov' 'dec' 'mar' 'apr' 'sep']\n",
            "====================================================================================================\n",
            "Unique values (day_of_week column): ['mon' 'tue' 'wed' 'thu' 'fri']\n",
            "====================================================================================================\n",
            "Unique values (poutcome column): ['nonexistent' 'failure' 'success']\n",
            "====================================================================================================\n",
            "Unique values (y column): ['no' 'yes']\n",
            "====================================================================================================\n"
          ]
        }
      ]
    },
    {
      "cell_type": "markdown",
      "source": [
        "Untuk nilai yang terdapat di kolom kategorik ini tidak terdapat yang aneh atau janggal (untuk nilai unknown akan saya biarkan karena mungkin saja dari situ kita bisa mendapatkan insight). Juga, kita hanya akan melihat *unique values* untuk kolom bertipe data kategorik. Karena untuk kolom bertipe numerik akan lebih cocok untuk dilihat distribusinya dan diperiksa apakah terdapat outlier. Selanjutnya, kita akan melihat deskripsi dari data untuk masing-masing tipe data."
      ],
      "metadata": {
        "id": "OhYzyqCHK2Iv"
      }
    },
    {
      "cell_type": "code",
      "source": [
        "# Kategorik\n",
        "df[categorical_col].describe()"
      ],
      "metadata": {
        "colab": {
          "base_uri": "https://localhost:8080/",
          "height": 175
        },
        "id": "u-tGQ8WLQDQS",
        "outputId": "95dfc047-f767-40fb-ab0a-0163feeb2f83"
      },
      "execution_count": 12,
      "outputs": [
        {
          "output_type": "execute_result",
          "data": {
            "text/plain": [
              "           job  marital          education default housing   loan   contact  \\\n",
              "count    41188    41188              41188   41188   41188  41188     41188   \n",
              "unique      12        4                  8       3       3      3         2   \n",
              "top     admin.  married  university.degree      no     yes     no  cellular   \n",
              "freq     10422    24928              12168   32588   21576  33950     26144   \n",
              "\n",
              "        month day_of_week     poutcome      y  \n",
              "count   41188       41188        41188  41188  \n",
              "unique     10           5            3      2  \n",
              "top       may         thu  nonexistent     no  \n",
              "freq    13769        8623        35563  36548  "
            ],
            "text/html": [
              "\n",
              "  <div id=\"df-87cf9062-6494-49f1-bf69-42c1bfdecc29\">\n",
              "    <div class=\"colab-df-container\">\n",
              "      <div>\n",
              "<style scoped>\n",
              "    .dataframe tbody tr th:only-of-type {\n",
              "        vertical-align: middle;\n",
              "    }\n",
              "\n",
              "    .dataframe tbody tr th {\n",
              "        vertical-align: top;\n",
              "    }\n",
              "\n",
              "    .dataframe thead th {\n",
              "        text-align: right;\n",
              "    }\n",
              "</style>\n",
              "<table border=\"1\" class=\"dataframe\">\n",
              "  <thead>\n",
              "    <tr style=\"text-align: right;\">\n",
              "      <th></th>\n",
              "      <th>job</th>\n",
              "      <th>marital</th>\n",
              "      <th>education</th>\n",
              "      <th>default</th>\n",
              "      <th>housing</th>\n",
              "      <th>loan</th>\n",
              "      <th>contact</th>\n",
              "      <th>month</th>\n",
              "      <th>day_of_week</th>\n",
              "      <th>poutcome</th>\n",
              "      <th>y</th>\n",
              "    </tr>\n",
              "  </thead>\n",
              "  <tbody>\n",
              "    <tr>\n",
              "      <th>count</th>\n",
              "      <td>41188</td>\n",
              "      <td>41188</td>\n",
              "      <td>41188</td>\n",
              "      <td>41188</td>\n",
              "      <td>41188</td>\n",
              "      <td>41188</td>\n",
              "      <td>41188</td>\n",
              "      <td>41188</td>\n",
              "      <td>41188</td>\n",
              "      <td>41188</td>\n",
              "      <td>41188</td>\n",
              "    </tr>\n",
              "    <tr>\n",
              "      <th>unique</th>\n",
              "      <td>12</td>\n",
              "      <td>4</td>\n",
              "      <td>8</td>\n",
              "      <td>3</td>\n",
              "      <td>3</td>\n",
              "      <td>3</td>\n",
              "      <td>2</td>\n",
              "      <td>10</td>\n",
              "      <td>5</td>\n",
              "      <td>3</td>\n",
              "      <td>2</td>\n",
              "    </tr>\n",
              "    <tr>\n",
              "      <th>top</th>\n",
              "      <td>admin.</td>\n",
              "      <td>married</td>\n",
              "      <td>university.degree</td>\n",
              "      <td>no</td>\n",
              "      <td>yes</td>\n",
              "      <td>no</td>\n",
              "      <td>cellular</td>\n",
              "      <td>may</td>\n",
              "      <td>thu</td>\n",
              "      <td>nonexistent</td>\n",
              "      <td>no</td>\n",
              "    </tr>\n",
              "    <tr>\n",
              "      <th>freq</th>\n",
              "      <td>10422</td>\n",
              "      <td>24928</td>\n",
              "      <td>12168</td>\n",
              "      <td>32588</td>\n",
              "      <td>21576</td>\n",
              "      <td>33950</td>\n",
              "      <td>26144</td>\n",
              "      <td>13769</td>\n",
              "      <td>8623</td>\n",
              "      <td>35563</td>\n",
              "      <td>36548</td>\n",
              "    </tr>\n",
              "  </tbody>\n",
              "</table>\n",
              "</div>\n",
              "      <button class=\"colab-df-convert\" onclick=\"convertToInteractive('df-87cf9062-6494-49f1-bf69-42c1bfdecc29')\"\n",
              "              title=\"Convert this dataframe to an interactive table.\"\n",
              "              style=\"display:none;\">\n",
              "        \n",
              "  <svg xmlns=\"http://www.w3.org/2000/svg\" height=\"24px\"viewBox=\"0 0 24 24\"\n",
              "       width=\"24px\">\n",
              "    <path d=\"M0 0h24v24H0V0z\" fill=\"none\"/>\n",
              "    <path d=\"M18.56 5.44l.94 2.06.94-2.06 2.06-.94-2.06-.94-.94-2.06-.94 2.06-2.06.94zm-11 1L8.5 8.5l.94-2.06 2.06-.94-2.06-.94L8.5 2.5l-.94 2.06-2.06.94zm10 10l.94 2.06.94-2.06 2.06-.94-2.06-.94-.94-2.06-.94 2.06-2.06.94z\"/><path d=\"M17.41 7.96l-1.37-1.37c-.4-.4-.92-.59-1.43-.59-.52 0-1.04.2-1.43.59L10.3 9.45l-7.72 7.72c-.78.78-.78 2.05 0 2.83L4 21.41c.39.39.9.59 1.41.59.51 0 1.02-.2 1.41-.59l7.78-7.78 2.81-2.81c.8-.78.8-2.07 0-2.86zM5.41 20L4 18.59l7.72-7.72 1.47 1.35L5.41 20z\"/>\n",
              "  </svg>\n",
              "      </button>\n",
              "      \n",
              "  <style>\n",
              "    .colab-df-container {\n",
              "      display:flex;\n",
              "      flex-wrap:wrap;\n",
              "      gap: 12px;\n",
              "    }\n",
              "\n",
              "    .colab-df-convert {\n",
              "      background-color: #E8F0FE;\n",
              "      border: none;\n",
              "      border-radius: 50%;\n",
              "      cursor: pointer;\n",
              "      display: none;\n",
              "      fill: #1967D2;\n",
              "      height: 32px;\n",
              "      padding: 0 0 0 0;\n",
              "      width: 32px;\n",
              "    }\n",
              "\n",
              "    .colab-df-convert:hover {\n",
              "      background-color: #E2EBFA;\n",
              "      box-shadow: 0px 1px 2px rgba(60, 64, 67, 0.3), 0px 1px 3px 1px rgba(60, 64, 67, 0.15);\n",
              "      fill: #174EA6;\n",
              "    }\n",
              "\n",
              "    [theme=dark] .colab-df-convert {\n",
              "      background-color: #3B4455;\n",
              "      fill: #D2E3FC;\n",
              "    }\n",
              "\n",
              "    [theme=dark] .colab-df-convert:hover {\n",
              "      background-color: #434B5C;\n",
              "      box-shadow: 0px 1px 3px 1px rgba(0, 0, 0, 0.15);\n",
              "      filter: drop-shadow(0px 1px 2px rgba(0, 0, 0, 0.3));\n",
              "      fill: #FFFFFF;\n",
              "    }\n",
              "  </style>\n",
              "\n",
              "      <script>\n",
              "        const buttonEl =\n",
              "          document.querySelector('#df-87cf9062-6494-49f1-bf69-42c1bfdecc29 button.colab-df-convert');\n",
              "        buttonEl.style.display =\n",
              "          google.colab.kernel.accessAllowed ? 'block' : 'none';\n",
              "\n",
              "        async function convertToInteractive(key) {\n",
              "          const element = document.querySelector('#df-87cf9062-6494-49f1-bf69-42c1bfdecc29');\n",
              "          const dataTable =\n",
              "            await google.colab.kernel.invokeFunction('convertToInteractive',\n",
              "                                                     [key], {});\n",
              "          if (!dataTable) return;\n",
              "\n",
              "          const docLinkHtml = 'Like what you see? Visit the ' +\n",
              "            '<a target=\"_blank\" href=https://colab.research.google.com/notebooks/data_table.ipynb>data table notebook</a>'\n",
              "            + ' to learn more about interactive tables.';\n",
              "          element.innerHTML = '';\n",
              "          dataTable['output_type'] = 'display_data';\n",
              "          await google.colab.output.renderOutput(dataTable, element);\n",
              "          const docLink = document.createElement('div');\n",
              "          docLink.innerHTML = docLinkHtml;\n",
              "          element.appendChild(docLink);\n",
              "        }\n",
              "      </script>\n",
              "    </div>\n",
              "  </div>\n",
              "  "
            ]
          },
          "metadata": {},
          "execution_count": 12
        }
      ]
    },
    {
      "cell_type": "markdown",
      "source": [
        "Untuk kolom bertipe kategorik sudah aman."
      ],
      "metadata": {
        "id": "NsQxwMIHQZfr"
      }
    },
    {
      "cell_type": "code",
      "source": [
        "# Numerik\n",
        "df[numerical_col].describe()"
      ],
      "metadata": {
        "colab": {
          "base_uri": "https://localhost:8080/",
          "height": 344
        },
        "id": "zM85zmUOQLKu",
        "outputId": "5fd93dda-9560-46da-ef9d-d6dee4e3b99a"
      },
      "execution_count": 13,
      "outputs": [
        {
          "output_type": "execute_result",
          "data": {
            "text/plain": [
              "               age      duration      campaign         pdays      previous  \\\n",
              "count  41188.00000  41188.000000  41188.000000  41188.000000  41188.000000   \n",
              "mean      40.02406    258.285010      2.567593    962.475454      0.172963   \n",
              "std       10.42125    259.279249      2.770014    186.910907      0.494901   \n",
              "min       17.00000      0.000000      1.000000      0.000000      0.000000   \n",
              "25%       32.00000    102.000000      1.000000    999.000000      0.000000   \n",
              "50%       38.00000    180.000000      2.000000    999.000000      0.000000   \n",
              "75%       47.00000    319.000000      3.000000    999.000000      0.000000   \n",
              "max       98.00000   4918.000000     56.000000    999.000000      7.000000   \n",
              "\n",
              "       emp.var.rate  cons.price.idx  cons.conf.idx     euribor3m   nr.employed  \n",
              "count  41188.000000    41188.000000   41188.000000  41188.000000  41188.000000  \n",
              "mean       0.081886       93.575664     -40.502600      3.621291   5167.035911  \n",
              "std        1.570960        0.578840       4.628198      1.734447     72.251528  \n",
              "min       -3.400000       92.201000     -50.800000      0.634000   4963.600000  \n",
              "25%       -1.800000       93.075000     -42.700000      1.344000   5099.100000  \n",
              "50%        1.100000       93.749000     -41.800000      4.857000   5191.000000  \n",
              "75%        1.400000       93.994000     -36.400000      4.961000   5228.100000  \n",
              "max        1.400000       94.767000     -26.900000      5.045000   5228.100000  "
            ],
            "text/html": [
              "\n",
              "  <div id=\"df-bf952c53-4b05-4856-a4aa-49513eb073cb\">\n",
              "    <div class=\"colab-df-container\">\n",
              "      <div>\n",
              "<style scoped>\n",
              "    .dataframe tbody tr th:only-of-type {\n",
              "        vertical-align: middle;\n",
              "    }\n",
              "\n",
              "    .dataframe tbody tr th {\n",
              "        vertical-align: top;\n",
              "    }\n",
              "\n",
              "    .dataframe thead th {\n",
              "        text-align: right;\n",
              "    }\n",
              "</style>\n",
              "<table border=\"1\" class=\"dataframe\">\n",
              "  <thead>\n",
              "    <tr style=\"text-align: right;\">\n",
              "      <th></th>\n",
              "      <th>age</th>\n",
              "      <th>duration</th>\n",
              "      <th>campaign</th>\n",
              "      <th>pdays</th>\n",
              "      <th>previous</th>\n",
              "      <th>emp.var.rate</th>\n",
              "      <th>cons.price.idx</th>\n",
              "      <th>cons.conf.idx</th>\n",
              "      <th>euribor3m</th>\n",
              "      <th>nr.employed</th>\n",
              "    </tr>\n",
              "  </thead>\n",
              "  <tbody>\n",
              "    <tr>\n",
              "      <th>count</th>\n",
              "      <td>41188.00000</td>\n",
              "      <td>41188.000000</td>\n",
              "      <td>41188.000000</td>\n",
              "      <td>41188.000000</td>\n",
              "      <td>41188.000000</td>\n",
              "      <td>41188.000000</td>\n",
              "      <td>41188.000000</td>\n",
              "      <td>41188.000000</td>\n",
              "      <td>41188.000000</td>\n",
              "      <td>41188.000000</td>\n",
              "    </tr>\n",
              "    <tr>\n",
              "      <th>mean</th>\n",
              "      <td>40.02406</td>\n",
              "      <td>258.285010</td>\n",
              "      <td>2.567593</td>\n",
              "      <td>962.475454</td>\n",
              "      <td>0.172963</td>\n",
              "      <td>0.081886</td>\n",
              "      <td>93.575664</td>\n",
              "      <td>-40.502600</td>\n",
              "      <td>3.621291</td>\n",
              "      <td>5167.035911</td>\n",
              "    </tr>\n",
              "    <tr>\n",
              "      <th>std</th>\n",
              "      <td>10.42125</td>\n",
              "      <td>259.279249</td>\n",
              "      <td>2.770014</td>\n",
              "      <td>186.910907</td>\n",
              "      <td>0.494901</td>\n",
              "      <td>1.570960</td>\n",
              "      <td>0.578840</td>\n",
              "      <td>4.628198</td>\n",
              "      <td>1.734447</td>\n",
              "      <td>72.251528</td>\n",
              "    </tr>\n",
              "    <tr>\n",
              "      <th>min</th>\n",
              "      <td>17.00000</td>\n",
              "      <td>0.000000</td>\n",
              "      <td>1.000000</td>\n",
              "      <td>0.000000</td>\n",
              "      <td>0.000000</td>\n",
              "      <td>-3.400000</td>\n",
              "      <td>92.201000</td>\n",
              "      <td>-50.800000</td>\n",
              "      <td>0.634000</td>\n",
              "      <td>4963.600000</td>\n",
              "    </tr>\n",
              "    <tr>\n",
              "      <th>25%</th>\n",
              "      <td>32.00000</td>\n",
              "      <td>102.000000</td>\n",
              "      <td>1.000000</td>\n",
              "      <td>999.000000</td>\n",
              "      <td>0.000000</td>\n",
              "      <td>-1.800000</td>\n",
              "      <td>93.075000</td>\n",
              "      <td>-42.700000</td>\n",
              "      <td>1.344000</td>\n",
              "      <td>5099.100000</td>\n",
              "    </tr>\n",
              "    <tr>\n",
              "      <th>50%</th>\n",
              "      <td>38.00000</td>\n",
              "      <td>180.000000</td>\n",
              "      <td>2.000000</td>\n",
              "      <td>999.000000</td>\n",
              "      <td>0.000000</td>\n",
              "      <td>1.100000</td>\n",
              "      <td>93.749000</td>\n",
              "      <td>-41.800000</td>\n",
              "      <td>4.857000</td>\n",
              "      <td>5191.000000</td>\n",
              "    </tr>\n",
              "    <tr>\n",
              "      <th>75%</th>\n",
              "      <td>47.00000</td>\n",
              "      <td>319.000000</td>\n",
              "      <td>3.000000</td>\n",
              "      <td>999.000000</td>\n",
              "      <td>0.000000</td>\n",
              "      <td>1.400000</td>\n",
              "      <td>93.994000</td>\n",
              "      <td>-36.400000</td>\n",
              "      <td>4.961000</td>\n",
              "      <td>5228.100000</td>\n",
              "    </tr>\n",
              "    <tr>\n",
              "      <th>max</th>\n",
              "      <td>98.00000</td>\n",
              "      <td>4918.000000</td>\n",
              "      <td>56.000000</td>\n",
              "      <td>999.000000</td>\n",
              "      <td>7.000000</td>\n",
              "      <td>1.400000</td>\n",
              "      <td>94.767000</td>\n",
              "      <td>-26.900000</td>\n",
              "      <td>5.045000</td>\n",
              "      <td>5228.100000</td>\n",
              "    </tr>\n",
              "  </tbody>\n",
              "</table>\n",
              "</div>\n",
              "      <button class=\"colab-df-convert\" onclick=\"convertToInteractive('df-bf952c53-4b05-4856-a4aa-49513eb073cb')\"\n",
              "              title=\"Convert this dataframe to an interactive table.\"\n",
              "              style=\"display:none;\">\n",
              "        \n",
              "  <svg xmlns=\"http://www.w3.org/2000/svg\" height=\"24px\"viewBox=\"0 0 24 24\"\n",
              "       width=\"24px\">\n",
              "    <path d=\"M0 0h24v24H0V0z\" fill=\"none\"/>\n",
              "    <path d=\"M18.56 5.44l.94 2.06.94-2.06 2.06-.94-2.06-.94-.94-2.06-.94 2.06-2.06.94zm-11 1L8.5 8.5l.94-2.06 2.06-.94-2.06-.94L8.5 2.5l-.94 2.06-2.06.94zm10 10l.94 2.06.94-2.06 2.06-.94-2.06-.94-.94-2.06-.94 2.06-2.06.94z\"/><path d=\"M17.41 7.96l-1.37-1.37c-.4-.4-.92-.59-1.43-.59-.52 0-1.04.2-1.43.59L10.3 9.45l-7.72 7.72c-.78.78-.78 2.05 0 2.83L4 21.41c.39.39.9.59 1.41.59.51 0 1.02-.2 1.41-.59l7.78-7.78 2.81-2.81c.8-.78.8-2.07 0-2.86zM5.41 20L4 18.59l7.72-7.72 1.47 1.35L5.41 20z\"/>\n",
              "  </svg>\n",
              "      </button>\n",
              "      \n",
              "  <style>\n",
              "    .colab-df-container {\n",
              "      display:flex;\n",
              "      flex-wrap:wrap;\n",
              "      gap: 12px;\n",
              "    }\n",
              "\n",
              "    .colab-df-convert {\n",
              "      background-color: #E8F0FE;\n",
              "      border: none;\n",
              "      border-radius: 50%;\n",
              "      cursor: pointer;\n",
              "      display: none;\n",
              "      fill: #1967D2;\n",
              "      height: 32px;\n",
              "      padding: 0 0 0 0;\n",
              "      width: 32px;\n",
              "    }\n",
              "\n",
              "    .colab-df-convert:hover {\n",
              "      background-color: #E2EBFA;\n",
              "      box-shadow: 0px 1px 2px rgba(60, 64, 67, 0.3), 0px 1px 3px 1px rgba(60, 64, 67, 0.15);\n",
              "      fill: #174EA6;\n",
              "    }\n",
              "\n",
              "    [theme=dark] .colab-df-convert {\n",
              "      background-color: #3B4455;\n",
              "      fill: #D2E3FC;\n",
              "    }\n",
              "\n",
              "    [theme=dark] .colab-df-convert:hover {\n",
              "      background-color: #434B5C;\n",
              "      box-shadow: 0px 1px 3px 1px rgba(0, 0, 0, 0.15);\n",
              "      filter: drop-shadow(0px 1px 2px rgba(0, 0, 0, 0.3));\n",
              "      fill: #FFFFFF;\n",
              "    }\n",
              "  </style>\n",
              "\n",
              "      <script>\n",
              "        const buttonEl =\n",
              "          document.querySelector('#df-bf952c53-4b05-4856-a4aa-49513eb073cb button.colab-df-convert');\n",
              "        buttonEl.style.display =\n",
              "          google.colab.kernel.accessAllowed ? 'block' : 'none';\n",
              "\n",
              "        async function convertToInteractive(key) {\n",
              "          const element = document.querySelector('#df-bf952c53-4b05-4856-a4aa-49513eb073cb');\n",
              "          const dataTable =\n",
              "            await google.colab.kernel.invokeFunction('convertToInteractive',\n",
              "                                                     [key], {});\n",
              "          if (!dataTable) return;\n",
              "\n",
              "          const docLinkHtml = 'Like what you see? Visit the ' +\n",
              "            '<a target=\"_blank\" href=https://colab.research.google.com/notebooks/data_table.ipynb>data table notebook</a>'\n",
              "            + ' to learn more about interactive tables.';\n",
              "          element.innerHTML = '';\n",
              "          dataTable['output_type'] = 'display_data';\n",
              "          await google.colab.output.renderOutput(dataTable, element);\n",
              "          const docLink = document.createElement('div');\n",
              "          docLink.innerHTML = docLinkHtml;\n",
              "          element.appendChild(docLink);\n",
              "        }\n",
              "      </script>\n",
              "    </div>\n",
              "  </div>\n",
              "  "
            ]
          },
          "metadata": {},
          "execution_count": 13
        }
      ]
    },
    {
      "cell_type": "markdown",
      "source": [
        "Untuk kolom bertipe data numerik, hanya kolom pdays saja yang memiliki hal janggal. Tetapi, pada dokumentasi sudah dijelaskan, bahwa nilai 999 pada kolom pdays berarti klien tidak pernah dihubungi sebelumnya (Klien baru pertama kali dihubungi untuk *campaign* ini). Untuk nilai 999 di kolom pdays akan kita biarkan saja, dikarenakan jika kita ubah menjadi 0 akan mengubah persepsi/arti pada nilai. Selanjutnya, kita akan memeriksa kardinalitas dari tiap atribut data."
      ],
      "metadata": {
        "id": "lBbYJ0sfQnDC"
      }
    },
    {
      "cell_type": "code",
      "source": [
        "# Cek kardinalitas data\n",
        "for col in df[categorical_col]:\n",
        "  print(f\"Number unique {col} column: {df[col].nunique()}\")\n",
        "  print(\"=\" * 100)"
      ],
      "metadata": {
        "colab": {
          "base_uri": "https://localhost:8080/"
        },
        "id": "zrTmt8XMMr6E",
        "outputId": "53950789-37f6-40c4-cfbf-826e91656b1a"
      },
      "execution_count": 14,
      "outputs": [
        {
          "output_type": "stream",
          "name": "stdout",
          "text": [
            "Number unique job column: 12\n",
            "====================================================================================================\n",
            "Number unique marital column: 4\n",
            "====================================================================================================\n",
            "Number unique education column: 8\n",
            "====================================================================================================\n",
            "Number unique default column: 3\n",
            "====================================================================================================\n",
            "Number unique housing column: 3\n",
            "====================================================================================================\n",
            "Number unique loan column: 3\n",
            "====================================================================================================\n",
            "Number unique contact column: 2\n",
            "====================================================================================================\n",
            "Number unique month column: 10\n",
            "====================================================================================================\n",
            "Number unique day_of_week column: 5\n",
            "====================================================================================================\n",
            "Number unique poutcome column: 3\n",
            "====================================================================================================\n",
            "Number unique y column: 2\n",
            "====================================================================================================\n"
          ]
        }
      ]
    },
    {
      "cell_type": "markdown",
      "source": [
        "Untuk kardinalitas kita akan memeriksa untuk kolom yang bertipe data kategorik saja. Tidak ditemukan kardinalitas rendah atau tinggi disini. Artinya sudah aman."
      ],
      "metadata": {
        "id": "nhvwde3ANIpX"
      }
    },
    {
      "cell_type": "markdown",
      "source": [
        "\n",
        "\n",
        "---\n",
        "\n"
      ],
      "metadata": {
        "id": "aY8q3B5iwhhV"
      }
    },
    {
      "cell_type": "markdown",
      "source": [
        "# **3. Visualization**\n",
        "Pada bagian ini, kita akan menjawab beberapa pertanyaan tentang data ini, sekaligus memvisualisasikannya."
      ],
      "metadata": {
        "id": "gJr-USMtwTWw"
      }
    },
    {
      "cell_type": "markdown",
      "source": [
        "**Question**\n",
        "1. Berapa banyak jumlah pelanggan yang tertarik untuk deposit jangka panjang dari *campaign* ini?"
      ],
      "metadata": {
        "id": "OBoqS6gg4X9J"
      }
    },
    {
      "cell_type": "code",
      "source": [
        "# Memeriksa kolom target\n",
        "plt.figure(figsize=(12,8))\n",
        "df[\"y\"].value_counts(normalize=True).plot(kind=\"bar\", color=\"plum\")\n",
        "plt.title(\"Class Balance\")\n",
        "plt.xlabel(\"Relative Frequency\")\n",
        "plt.ylabel(\"Class\");\n",
        "print(df[\"y\"].value_counts(normalize=True))"
      ],
      "metadata": {
        "colab": {
          "base_uri": "https://localhost:8080/",
          "height": 572
        },
        "id": "j4oylhJbdF62",
        "outputId": "3eb153df-4617-433e-eaf6-b2d3bbd7f3f3"
      },
      "execution_count": 15,
      "outputs": [
        {
          "output_type": "stream",
          "name": "stdout",
          "text": [
            "no     0.887346\n",
            "yes    0.112654\n",
            "Name: y, dtype: float64\n"
          ]
        },
        {
          "output_type": "display_data",
          "data": {
            "text/plain": [
              "<Figure size 864x576 with 1 Axes>"
            ],
            "image/png": "[encoded data removed]"
          },
          "metadata": {
            "needs_background": "light"
          }
        }
      ]
    },
    {
      "cell_type": "markdown",
      "source": [
        "Terdapat 88.73% pelanggan yang memilih no (tidak tertarik deposit) pada *campaign* kali ini, dan terdapat 11.27% memilih yes (tertarik deposit). Dapat dilihat juga bahwa kita mempunyai data yang *imbalanced* atau tidak seimbang. Pada bagian-bagian selanjutnya kita akan melakukan *resampling* untuk menangani *imbalanced data*."
      ],
      "metadata": {
        "id": "rxkcRrtndxgm"
      }
    },
    {
      "cell_type": "markdown",
      "source": [
        "2. Pekerjaan apa saja dari pelanggan yang mendapatkan tawaran untuk deposit jangka panjang?"
      ],
      "metadata": {
        "id": "57JfWQJk4u2e"
      }
    },
    {
      "cell_type": "code",
      "source": [
        "# Melihat proporsi atribut job\n",
        "plt.figure(figsize=(12,8))\n",
        "df[\"job\"].value_counts().plot(kind=\"pie\", \n",
        "                              cmap=\"Pastel2\", \n",
        "                              autopct=\"%.2f%%\", \n",
        "                              shadow=True,\n",
        "                              explode=[0.1,0.0,0.0,0.0,0.0,0.0,0.0,0.0,0.0,0.0,0.0,0.05])\n",
        "plt.title(\"Proporsi Pekerjaan\")\n",
        "plt.ylabel(None);"
      ],
      "metadata": {
        "colab": {
          "base_uri": "https://localhost:8080/",
          "height": 482
        },
        "id": "QKMeBY8it0qy",
        "outputId": "0e8d70f1-1e94-448f-eea0-901e1bc4c2d9"
      },
      "execution_count": 16,
      "outputs": [
        {
          "output_type": "display_data",
          "data": {
            "text/plain": [
              "<Figure size 864x576 with 1 Axes>"
            ],
            "image/png": "[encoded data removed]"
          },
          "metadata": {}
        }
      ]
    },
    {
      "cell_type": "markdown",
      "source": [
        "Dapat dilihat bahwa **admin** merupakan pekerjaan yang paling sering mendapatkan tawaran mengenai deposito jangka panjang dengan proporsi sebesar 25.30% dan **student** merupakan yang paling terendah dengan proporsi sebesar 2.12%. Adapun, sebesar 0.80% tidak diketahui apa pekerjaannya."
      ],
      "metadata": {
        "id": "OyS7JTxczv-d"
      }
    },
    {
      "cell_type": "markdown",
      "source": [
        "# **4. Preparation**\n",
        "Pada bagian ini, kita akan melakukan *splitting data* dan *feature*, *resampling* dan tentu saja melakukan pemodelan.\n",
        "\n",
        "Berikut model Machine Learning yang akan kita implementasikan untuk data ini:\n",
        "*  Logistic Regression\n",
        "*  K-Nearest Neighbors (KNN)\n",
        "*  Support Vector Machine (SVM)\n",
        "*  Decision Tree\n",
        "*  Random Forest\n",
        "*  Naive Bayes\n",
        "\n",
        "Selanjutnya, kita akan membagi data terlebih untuk sebagai feature dan target"
      ],
      "metadata": {
        "id": "oZbU6exhX_0k"
      }
    },
    {
      "cell_type": "code",
      "source": [
        "target = \"y\"\n",
        "X = df.drop(target, axis=1)\n",
        "y = df[target]"
      ],
      "metadata": {
        "id": "3MJ3agCru7L-"
      },
      "execution_count": 17,
      "outputs": []
    },
    {
      "cell_type": "markdown",
      "source": [
        "Data sudah terbagi, dengan feature di variabel X dan target di variabel y. Selanjutnya, kita akan membagi data train dan test"
      ],
      "metadata": {
        "id": "axXOVKBsw4Ld"
      }
    },
    {
      "cell_type": "code",
      "source": [
        "# Splitting data\n",
        "X_train, X_test, y_train, y_test = train_test_split(X, \n",
        "                                                    y, \n",
        "                                                    test_size=0.2, \n",
        "                                                    random_state=42)\n",
        "print(f\"X_train shape: {X_train.shape}\")\n",
        "print(f\"y_train shape: {y_train.shape}\")\n",
        "print(f\"X_test shape: {X_test.shape}\")\n",
        "print(f\"y_test shape: {y_test.shape}\")"
      ],
      "metadata": {
        "colab": {
          "base_uri": "https://localhost:8080/"
        },
        "id": "RfZq73tlxDmv",
        "outputId": "2fa145aa-483e-4916-cd0e-a913c1c7e6b0"
      },
      "execution_count": 18,
      "outputs": [
        {
          "output_type": "stream",
          "name": "stdout",
          "text": [
            "X_train shape: (32950, 20)\n",
            "y_train shape: (32950,)\n",
            "X_test shape: (8238, 20)\n",
            "y_test shape: (8238,)\n"
          ]
        }
      ]
    },
    {
      "cell_type": "markdown",
      "source": [
        "Dapat dilihat diatas ini untuk shape data train dan test."
      ],
      "metadata": {
        "id": "_g9lqNW3xoS1"
      }
    },
    {
      "cell_type": "code",
      "source": [
        "over_sampler = RandomOverSampler(random_state=42)\n",
        "X_train_over, y_train_over = over_sampler.fit_resample(X_train, y_train)"
      ],
      "metadata": {
        "id": "FN6DGDXPz2WZ"
      },
      "execution_count": 19,
      "outputs": []
    },
    {
      "cell_type": "markdown",
      "source": [
        "Kita melakukan *over_sampling* dikarenakan, jika menggunakan *under-sampling* data akan tersisa sangat sedikit sekali pada kasus ini."
      ],
      "metadata": {
        "id": "engtFjFbz8l-"
      }
    },
    {
      "cell_type": "markdown",
      "source": [
        "---"
      ],
      "metadata": {
        "id": "2UzQVa9BwH61"
      }
    },
    {
      "cell_type": "markdown",
      "source": [
        "# **5. Logistic Regression**\n",
        "Kita akan mengimplementasikan Logistic Regression yang di-*import* dari library scikit-learn."
      ],
      "metadata": {
        "id": "qXGDLtV2xwnQ"
      }
    },
    {
      "cell_type": "code",
      "source": [
        "# Menginisialisasi model\n",
        "lr = make_pipeline(OneHotEncoder(use_cat_names=True),\n",
        "                   StandardScaler(),\n",
        "                   LogisticRegression(max_iter=1000))\n",
        "# Melatih model\n",
        "lr.fit(X_train, y_train)"
      ],
      "metadata": {
        "colab": {
          "base_uri": "https://localhost:8080/"
        },
        "id": "MXiEnJrVyats",
        "outputId": "48770600-1548-47e2-f3ec-8e22f47b7bd9"
      },
      "execution_count": 20,
      "outputs": [
        {
          "output_type": "execute_result",
          "data": {
            "text/plain": [
              "Pipeline(steps=[('onehotencoder',\n",
              "                 OneHotEncoder(cols=['job', 'marital', 'education', 'default',\n",
              "                                     'housing', 'loan', 'contact', 'month',\n",
              "                                     'day_of_week', 'poutcome'],\n",
              "                               use_cat_names=True)),\n",
              "                ('standardscaler', StandardScaler()),\n",
              "                ('logisticregression', LogisticRegression(max_iter=1000))])"
            ]
          },
          "metadata": {},
          "execution_count": 20
        }
      ]
    },
    {
      "cell_type": "code",
      "source": [
        "y_pred_lr = lr.predict(X_test)"
      ],
      "metadata": {
        "id": "OTiL5Pn8zO-w"
      },
      "execution_count": 21,
      "outputs": []
    },
    {
      "cell_type": "code",
      "source": [
        "print(accuracy_score(y_pred_lr, y_test))\n",
        "ConfusionMatrixDisplay.from_estimator(lr, X_test, y_test)\n",
        "print(classification_report(y_test, y_pred_lr))"
      ],
      "metadata": {
        "colab": {
          "base_uri": "https://localhost:8080/",
          "height": 454
        },
        "id": "1suewZj00mDb",
        "outputId": "f9cc3846-4494-491c-c603-d01e75b72849"
      },
      "execution_count": 22,
      "outputs": [
        {
          "output_type": "stream",
          "name": "stdout",
          "text": [
            "0.9115076474872542\n",
            "              precision    recall  f1-score   support\n",
            "\n",
            "          no       0.93      0.97      0.95      7303\n",
            "         yes       0.67      0.43      0.53       935\n",
            "\n",
            "    accuracy                           0.91      8238\n",
            "   macro avg       0.80      0.70      0.74      8238\n",
            "weighted avg       0.90      0.91      0.90      8238\n",
            "\n"
          ]
        },
        {
          "output_type": "display_data",
          "data": {
            "text/plain": [
              "<Figure size 432x288 with 2 Axes>"
            ],
            "image/png": "[encoded data removed]"
          },
          "metadata": {
            "needs_background": "light"
          }
        }
      ]
    },
    {
      "cell_type": "markdown",
      "source": [
        "Confusion Matrix diatas menunjukan hasil berikut: \n",
        "* 7103 True Negative (TN)\n",
        "* 200 False Positive (FP)\n",
        "* 529 False Negative (FN)\n",
        "* 406 True Positive (TP)"
      ],
      "metadata": {
        "id": "YWo6TN8wBbUM"
      }
    },
    {
      "cell_type": "markdown",
      "source": [
        "Pada bagian ini kita menggunakan data train original (tidak menggunakan data resampling). Karena setelah dilakukan percobaan, untuk akurasi masih lebih baik menggunakan data original pada model ini."
      ],
      "metadata": {
        "id": "Ml5pmSqR4s0r"
      }
    },
    {
      "cell_type": "markdown",
      "source": [
        "Didapatkan akurasi sebesar 91.2% (0.9115076474872542) pada model Logistic Regression. Tetapi, jika ingin mendapatkan balance pada model, maka data yang telah di *over-sampling* akan lebih baik, walaupun mendapatkan akurasi yang lebih rendah."
      ],
      "metadata": {
        "id": "t5h1wJg95-hO"
      }
    },
    {
      "cell_type": "markdown",
      "source": [
        "\n",
        "\n",
        "---\n",
        "\n"
      ],
      "metadata": {
        "id": "odJXblgj8gVA"
      }
    },
    {
      "cell_type": "markdown",
      "source": [
        "# **6. K-Nearest Neighbors (KNN)**\n",
        "Kita akan mengimplementasikan K-Nearest Neighbors yang di-*import* dari library scikit-learn."
      ],
      "metadata": {
        "id": "VL_htjIW8KIb"
      }
    },
    {
      "cell_type": "code",
      "source": [
        "# Menginisialisasi model\n",
        "knn = make_pipeline(OneHotEncoder(use_cat_names=True),\n",
        "                   StandardScaler(),\n",
        "                   KNeighborsClassifier())\n",
        "# Melatih model\n",
        "knn.fit(X_train, y_train)"
      ],
      "metadata": {
        "colab": {
          "base_uri": "https://localhost:8080/"
        },
        "outputId": "2d24966a-a9ea-4089-ce5f-cabf9d5ded8a",
        "id": "HZCvM0pW8fV2"
      },
      "execution_count": 23,
      "outputs": [
        {
          "output_type": "execute_result",
          "data": {
            "text/plain": [
              "Pipeline(steps=[('onehotencoder',\n",
              "                 OneHotEncoder(cols=['job', 'marital', 'education', 'default',\n",
              "                                     'housing', 'loan', 'contact', 'month',\n",
              "                                     'day_of_week', 'poutcome'],\n",
              "                               use_cat_names=True)),\n",
              "                ('standardscaler', StandardScaler()),\n",
              "                ('kneighborsclassifier', KNeighborsClassifier())])"
            ]
          },
          "metadata": {},
          "execution_count": 23
        }
      ]
    },
    {
      "cell_type": "code",
      "source": [
        "y_pred_knn = knn.predict(X_test)"
      ],
      "metadata": {
        "id": "0jm5RZ5Y8fV3"
      },
      "execution_count": 24,
      "outputs": []
    },
    {
      "cell_type": "code",
      "source": [
        "print(accuracy_score(y_pred_knn, y_test))\n",
        "ConfusionMatrixDisplay.from_estimator(knn, X_test, y_test)\n",
        "print(classification_report(y_test, y_pred_knn))"
      ],
      "metadata": {
        "colab": {
          "base_uri": "https://localhost:8080/",
          "height": 454
        },
        "outputId": "1d243231-3809-43fc-e7fa-c8a753f866b5",
        "id": "QpbrKix38fV3"
      },
      "execution_count": 25,
      "outputs": [
        {
          "output_type": "stream",
          "name": "stdout",
          "text": [
            "0.898154891964069\n",
            "              precision    recall  f1-score   support\n",
            "\n",
            "          no       0.92      0.97      0.94      7303\n",
            "         yes       0.60      0.32      0.42       935\n",
            "\n",
            "    accuracy                           0.90      8238\n",
            "   macro avg       0.76      0.65      0.68      8238\n",
            "weighted avg       0.88      0.90      0.88      8238\n",
            "\n"
          ]
        },
        {
          "output_type": "display_data",
          "data": {
            "text/plain": [
              "<Figure size 432x288 with 2 Axes>"
            ],
            "image/png": "[encoded data removed]"
          },
          "metadata": {
            "needs_background": "light"
          }
        }
      ]
    },
    {
      "cell_type": "markdown",
      "source": [
        "Confusion Matrix diatas menunjukan hasil berikut: \n",
        "* 7099 True Negative (TN)\n",
        "* 204 False Positive (FP)\n",
        "* 635 False Negative (FN)\n",
        "* 300 True Positive (TP)"
      ],
      "metadata": {
        "id": "Ka1IabAfCHNf"
      }
    },
    {
      "cell_type": "markdown",
      "source": [
        "Pada bagian ini, saya menggunakan default model dari K-Nearest Neighbors dan tidak melakukan hyperparamater tuning."
      ],
      "metadata": {
        "id": "XWsIKAPjBGE0"
      }
    },
    {
      "cell_type": "markdown",
      "source": [
        "Didapatkan akurasi sebesar 90.0% (0.898154891964069) pada model K-Nearest Neighbors."
      ],
      "metadata": {
        "id": "8ld2lrW3_km6"
      }
    },
    {
      "cell_type": "markdown",
      "source": [
        "\n",
        "\n",
        "---\n",
        "\n"
      ],
      "metadata": {
        "id": "ZGU_KdDNCMEQ"
      }
    },
    {
      "cell_type": "markdown",
      "source": [
        "# **7. Support Vector Machine (SVM)**\n",
        "Kita akan mengimplementasikan Support Vector Machine yang di-*import* dari library scikit-learn."
      ],
      "metadata": {
        "id": "h2FT9yvuCN6u"
      }
    },
    {
      "cell_type": "code",
      "source": [
        "# Menginisialisasi model\n",
        "svm = make_pipeline(OneHotEncoder(use_cat_names=True),\n",
        "                   StandardScaler(),\n",
        "                   SVC())\n",
        "# Melatih model\n",
        "svm.fit(X_train, y_train)"
      ],
      "metadata": {
        "colab": {
          "base_uri": "https://localhost:8080/"
        },
        "outputId": "efb4b1c8-9d06-492c-f051-3b4d4948b164",
        "id": "Oh2hJpRdChoz"
      },
      "execution_count": 26,
      "outputs": [
        {
          "output_type": "execute_result",
          "data": {
            "text/plain": [
              "Pipeline(steps=[('onehotencoder',\n",
              "                 OneHotEncoder(cols=['job', 'marital', 'education', 'default',\n",
              "                                     'housing', 'loan', 'contact', 'month',\n",
              "                                     'day_of_week', 'poutcome'],\n",
              "                               use_cat_names=True)),\n",
              "                ('standardscaler', StandardScaler()), ('svc', SVC())])"
            ]
          },
          "metadata": {},
          "execution_count": 26
        }
      ]
    },
    {
      "cell_type": "code",
      "source": [
        "y_pred_svm = svm.predict(X_test)"
      ],
      "metadata": {
        "id": "9Z2A0WwxCho0"
      },
      "execution_count": 27,
      "outputs": []
    },
    {
      "cell_type": "code",
      "source": [
        "print(accuracy_score(y_pred_svm, y_test))\n",
        "ConfusionMatrixDisplay.from_estimator(svm, X_test, y_test)\n",
        "print(classification_report(y_test, y_pred_svm))"
      ],
      "metadata": {
        "colab": {
          "base_uri": "https://localhost:8080/",
          "height": 454
        },
        "outputId": "bce41bb6-36c9-4002-f0d5-e67163b90e67",
        "id": "nyEnX7mHCho0"
      },
      "execution_count": 28,
      "outputs": [
        {
          "output_type": "stream",
          "name": "stdout",
          "text": [
            "0.9090798737557659\n",
            "              precision    recall  f1-score   support\n",
            "\n",
            "          no       0.93      0.97      0.95      7303\n",
            "         yes       0.66      0.40      0.50       935\n",
            "\n",
            "    accuracy                           0.91      8238\n",
            "   macro avg       0.80      0.69      0.73      8238\n",
            "weighted avg       0.90      0.91      0.90      8238\n",
            "\n"
          ]
        },
        {
          "output_type": "display_data",
          "data": {
            "text/plain": [
              "<Figure size 432x288 with 2 Axes>"
            ],
            "image/png": "[encoded data removed]"
          },
          "metadata": {
            "needs_background": "light"
          }
        }
      ]
    },
    {
      "cell_type": "markdown",
      "source": [
        "Confusion Matrix diatas menunjukan hasil berikut: \n",
        "* 7114 True Negative (TN)\n",
        "* 189 False Positive (FP)\n",
        "* 560 False Negative (FN)\n",
        "* 375 True Positive (TP)"
      ],
      "metadata": {
        "id": "5Zhyg16FCho1"
      }
    },
    {
      "cell_type": "markdown",
      "source": [
        "Pada bagian ini, saya menggunakan default model dari Support Vector Machine dan tidak melakukan hyperparamater tuning."
      ],
      "metadata": {
        "id": "ISB7NeRFCho2"
      }
    },
    {
      "cell_type": "markdown",
      "source": [
        "Didapatkan akurasi sebesar 91.0% (0.9090798737557659) pada model Support Vector Machine."
      ],
      "metadata": {
        "id": "68W1YfGgCho2"
      }
    },
    {
      "cell_type": "markdown",
      "source": [
        "\n",
        "\n",
        "---\n",
        "\n"
      ],
      "metadata": {
        "id": "DCvDZx5qJDpl"
      }
    },
    {
      "cell_type": "markdown",
      "source": [
        "# **8. Decision Tree**\n",
        "Kita akan mengimplementasikan Decision Tree yang di-*import* dari library scikit-learn."
      ],
      "metadata": {
        "id": "aZDOzAmWDbe6"
      }
    },
    {
      "cell_type": "code",
      "source": [
        "# Menginisialisasi model\n",
        "dt = make_pipeline(OrdinalEncoder(),\n",
        "                   DecisionTreeClassifier(random_state=42))\n",
        "# Melatih model\n",
        "dt.fit(X_train, y_train)"
      ],
      "metadata": {
        "colab": {
          "base_uri": "https://localhost:8080/"
        },
        "outputId": "43eedaac-6809-4e89-c5ec-d1a4f833bac0",
        "id": "b6egedOBDbe7"
      },
      "execution_count": 29,
      "outputs": [
        {
          "output_type": "execute_result",
          "data": {
            "text/plain": [
              "Pipeline(steps=[('ordinalencoder',\n",
              "                 OrdinalEncoder(cols=['job', 'marital', 'education', 'default',\n",
              "                                      'housing', 'loan', 'contact', 'month',\n",
              "                                      'day_of_week', 'poutcome'],\n",
              "                                mapping=[{'col': 'job', 'data_type': dtype('O'),\n",
              "                                          'mapping': blue-collar       1\n",
              "admin.            2\n",
              "retired           3\n",
              "housemaid         4\n",
              "management        5\n",
              "technician        6\n",
              "entrepreneur      7\n",
              "services          8\n",
              "student           9\n",
              "unemployed       10\n",
              "self-employed    11\n",
              "unknown          12\n",
              "NaN              -2\n",
              "dtype: int64...\n",
              "                                          'data_type': dtype('O'),\n",
              "                                          'mapping': jul     1\n",
              "may     2\n",
              "apr     3\n",
              "nov     4\n",
              "jun     5\n",
              "mar     6\n",
              "aug     7\n",
              "sep     8\n",
              "oct     9\n",
              "dec    10\n",
              "NaN    -2\n",
              "dtype: int64},\n",
              "                                         {'col': 'day_of_week',\n",
              "                                          'data_type': dtype('O'),\n",
              "                                          'mapping': mon    1\n",
              "tue    2\n",
              "thu    3\n",
              "fri    4\n",
              "wed    5\n",
              "NaN   -2\n",
              "dtype: int64},\n",
              "                                         {'col': 'poutcome',\n",
              "                                          'data_type': dtype('O'),\n",
              "                                          'mapping': nonexistent    1\n",
              "failure        2\n",
              "success        3\n",
              "NaN           -2\n",
              "dtype: int64}])),\n",
              "                ('decisiontreeclassifier',\n",
              "                 DecisionTreeClassifier(random_state=42))])"
            ]
          },
          "metadata": {},
          "execution_count": 29
        }
      ]
    },
    {
      "cell_type": "code",
      "source": [
        "y_pred_dt = dt.predict(X_test)"
      ],
      "metadata": {
        "id": "zLeXUrQiDbe7"
      },
      "execution_count": 30,
      "outputs": []
    },
    {
      "cell_type": "code",
      "source": [
        "print(accuracy_score(y_pred_dt, y_test))\n",
        "ConfusionMatrixDisplay.from_estimator(dt, X_test, y_test)\n",
        "print(classification_report(y_test, y_pred_dt))"
      ],
      "metadata": {
        "colab": {
          "base_uri": "https://localhost:8080/",
          "height": 453
        },
        "outputId": "7c442d73-eb2b-41b5-d13c-47ad6af2e06b",
        "id": "Oa56fVqqDbe7"
      },
      "execution_count": 31,
      "outputs": [
        {
          "output_type": "stream",
          "name": "stdout",
          "text": [
            "0.8846807477543093\n",
            "              precision    recall  f1-score   support\n",
            "\n",
            "          no       0.93      0.94      0.93      7303\n",
            "         yes       0.49      0.49      0.49       935\n",
            "\n",
            "    accuracy                           0.88      8238\n",
            "   macro avg       0.71      0.71      0.71      8238\n",
            "weighted avg       0.88      0.88      0.88      8238\n",
            "\n"
          ]
        },
        {
          "output_type": "display_data",
          "data": {
            "text/plain": [
              "<Figure size 432x288 with 2 Axes>"
            ],
            "image/png": "[encoded data removed]"
          },
          "metadata": {
            "needs_background": "light"
          }
        }
      ]
    },
    {
      "cell_type": "markdown",
      "source": [
        "Confusion Matrix diatas menunjukan hasil berikut: \n",
        "* 6829 True Negative (TN)\n",
        "* 474 False Positive (FP)\n",
        "* 476 False Negative (FN)\n",
        "* 459 True Positive (TP)"
      ],
      "metadata": {
        "id": "NsWQ35QrDbe8"
      }
    },
    {
      "cell_type": "markdown",
      "source": [
        "Pada bagian ini, saya menggunakan default model dari Decision Tree dan tidak melakukan hyperparamater tuning."
      ],
      "metadata": {
        "id": "m2-UW-dTDbe8"
      }
    },
    {
      "cell_type": "markdown",
      "source": [
        "Didapatkan akurasi sebesar 88.5% (0.8846807477543093) pada model Decision Tree."
      ],
      "metadata": {
        "id": "zB30uQq8Dbe8"
      }
    },
    {
      "cell_type": "markdown",
      "source": [
        "\n",
        "\n",
        "---\n",
        "\n"
      ],
      "metadata": {
        "id": "1cv1byJmJCE3"
      }
    },
    {
      "cell_type": "markdown",
      "source": [
        "# **9. Random Forest**\n",
        "Kita akan mengimplementasikan Random Forest yang di-*import* dari library scikit-learn."
      ],
      "metadata": {
        "id": "rdVcVK5nFYTh"
      }
    },
    {
      "cell_type": "code",
      "source": [
        "# Menginisialisasi model\n",
        "rf = make_pipeline(OrdinalEncoder(),\n",
        "                   RandomForestClassifier(random_state=42))\n",
        "# Melatih model\n",
        "rf.fit(X_train, y_train)"
      ],
      "metadata": {
        "colab": {
          "base_uri": "https://localhost:8080/"
        },
        "outputId": "10996274-dbca-4d6c-ca17-e9197f48705d",
        "id": "2o0lfZdDFYTh"
      },
      "execution_count": 32,
      "outputs": [
        {
          "output_type": "execute_result",
          "data": {
            "text/plain": [
              "Pipeline(steps=[('ordinalencoder',\n",
              "                 OrdinalEncoder(cols=['job', 'marital', 'education', 'default',\n",
              "                                      'housing', 'loan', 'contact', 'month',\n",
              "                                      'day_of_week', 'poutcome'],\n",
              "                                mapping=[{'col': 'job', 'data_type': dtype('O'),\n",
              "                                          'mapping': blue-collar       1\n",
              "admin.            2\n",
              "retired           3\n",
              "housemaid         4\n",
              "management        5\n",
              "technician        6\n",
              "entrepreneur      7\n",
              "services          8\n",
              "student           9\n",
              "unemployed       10\n",
              "self-employed    11\n",
              "unknown          12\n",
              "NaN              -2\n",
              "dtype: int64...\n",
              "                                          'data_type': dtype('O'),\n",
              "                                          'mapping': jul     1\n",
              "may     2\n",
              "apr     3\n",
              "nov     4\n",
              "jun     5\n",
              "mar     6\n",
              "aug     7\n",
              "sep     8\n",
              "oct     9\n",
              "dec    10\n",
              "NaN    -2\n",
              "dtype: int64},\n",
              "                                         {'col': 'day_of_week',\n",
              "                                          'data_type': dtype('O'),\n",
              "                                          'mapping': mon    1\n",
              "tue    2\n",
              "thu    3\n",
              "fri    4\n",
              "wed    5\n",
              "NaN   -2\n",
              "dtype: int64},\n",
              "                                         {'col': 'poutcome',\n",
              "                                          'data_type': dtype('O'),\n",
              "                                          'mapping': nonexistent    1\n",
              "failure        2\n",
              "success        3\n",
              "NaN           -2\n",
              "dtype: int64}])),\n",
              "                ('randomforestclassifier',\n",
              "                 RandomForestClassifier(random_state=42))])"
            ]
          },
          "metadata": {},
          "execution_count": 32
        }
      ]
    },
    {
      "cell_type": "code",
      "source": [
        "y_pred_rf = rf.predict(X_test)"
      ],
      "metadata": {
        "id": "ZOhUm2HTFYTi"
      },
      "execution_count": 33,
      "outputs": []
    },
    {
      "cell_type": "code",
      "source": [
        "print(accuracy_score(y_pred_rf, y_test))\n",
        "ConfusionMatrixDisplay.from_estimator(rf, X_test, y_test)\n",
        "print(classification_report(y_test, y_pred_rf))"
      ],
      "metadata": {
        "colab": {
          "base_uri": "https://localhost:8080/",
          "height": 456
        },
        "outputId": "6f1eaa9c-7b7a-498a-da35-28a7d4603b5f",
        "id": "TPNQoEQ7FYTi"
      },
      "execution_count": 34,
      "outputs": [
        {
          "output_type": "stream",
          "name": "stdout",
          "text": [
            "0.9146637533381888\n",
            "              precision    recall  f1-score   support\n",
            "\n",
            "          no       0.94      0.96      0.95      7303\n",
            "         yes       0.66      0.52      0.58       935\n",
            "\n",
            "    accuracy                           0.91      8238\n",
            "   macro avg       0.80      0.74      0.77      8238\n",
            "weighted avg       0.91      0.91      0.91      8238\n",
            "\n"
          ]
        },
        {
          "output_type": "display_data",
          "data": {
            "text/plain": [
              "<Figure size 432x288 with 2 Axes>"
            ],
            "image/png": "[encoded data removed]"
          },
          "metadata": {
            "needs_background": "light"
          }
        }
      ]
    },
    {
      "cell_type": "markdown",
      "source": [
        "Confusion Matrix diatas menunjukan hasil berikut: \n",
        "* 7047 True Negative (TN)\n",
        "* 256 False Positive (FP)\n",
        "* 447 False Negative (FN)\n",
        "* 488 True Positive (TP)"
      ],
      "metadata": {
        "id": "tROQ4W6AFYTi"
      }
    },
    {
      "cell_type": "markdown",
      "source": [
        "Pada bagian ini, saya menggunakan default model dari Random Forest dan tidak melakukan hyperparamater tuning."
      ],
      "metadata": {
        "id": "hVd7IgqXFYTi"
      }
    },
    {
      "cell_type": "markdown",
      "source": [
        "Didapatkan akurasi sebesar 91.5% (0.9146637533381888) pada model Random Forest."
      ],
      "metadata": {
        "id": "79G-yzFeFYTi"
      }
    },
    {
      "cell_type": "markdown",
      "source": [
        "\n",
        "\n",
        "---\n",
        "\n"
      ],
      "metadata": {
        "id": "BFZ-adZ0JAaf"
      }
    },
    {
      "cell_type": "markdown",
      "source": [
        "# **10. Naive Bayes**\n",
        "Kita akan mengimplementasikan Naive Bayes yang di-*import* dari library scikit-learn."
      ],
      "metadata": {
        "id": "xgK0dkxcHDV0"
      }
    },
    {
      "cell_type": "code",
      "source": [
        "# Menginisialisasi model\n",
        "nb = make_pipeline(OrdinalEncoder(),\n",
        "                   GaussianNB())\n",
        "# Melatih model\n",
        "nb.fit(X_train, y_train)"
      ],
      "metadata": {
        "colab": {
          "base_uri": "https://localhost:8080/"
        },
        "outputId": "0c3a9401-dd46-44e2-a300-ed490202f064",
        "id": "2bXgfpQCHDV7"
      },
      "execution_count": 35,
      "outputs": [
        {
          "output_type": "execute_result",
          "data": {
            "text/plain": [
              "Pipeline(steps=[('ordinalencoder',\n",
              "                 OrdinalEncoder(cols=['job', 'marital', 'education', 'default',\n",
              "                                      'housing', 'loan', 'contact', 'month',\n",
              "                                      'day_of_week', 'poutcome'],\n",
              "                                mapping=[{'col': 'job', 'data_type': dtype('O'),\n",
              "                                          'mapping': blue-collar       1\n",
              "admin.            2\n",
              "retired           3\n",
              "housemaid         4\n",
              "management        5\n",
              "technician        6\n",
              "entrepreneur      7\n",
              "services          8\n",
              "student           9\n",
              "unemployed       10\n",
              "self-employed    11\n",
              "unknown          12\n",
              "NaN              -2\n",
              "dtype: int64...\n",
              "cellular     2\n",
              "NaN         -2\n",
              "dtype: int64},\n",
              "                                         {'col': 'month',\n",
              "                                          'data_type': dtype('O'),\n",
              "                                          'mapping': jul     1\n",
              "may     2\n",
              "apr     3\n",
              "nov     4\n",
              "jun     5\n",
              "mar     6\n",
              "aug     7\n",
              "sep     8\n",
              "oct     9\n",
              "dec    10\n",
              "NaN    -2\n",
              "dtype: int64},\n",
              "                                         {'col': 'day_of_week',\n",
              "                                          'data_type': dtype('O'),\n",
              "                                          'mapping': mon    1\n",
              "tue    2\n",
              "thu    3\n",
              "fri    4\n",
              "wed    5\n",
              "NaN   -2\n",
              "dtype: int64},\n",
              "                                         {'col': 'poutcome',\n",
              "                                          'data_type': dtype('O'),\n",
              "                                          'mapping': nonexistent    1\n",
              "failure        2\n",
              "success        3\n",
              "NaN           -2\n",
              "dtype: int64}])),\n",
              "                ('gaussiannb', GaussianNB())])"
            ]
          },
          "metadata": {},
          "execution_count": 35
        }
      ]
    },
    {
      "cell_type": "code",
      "source": [
        "y_pred_nb = nb.predict(X_test)"
      ],
      "metadata": {
        "id": "_yo1JRcKHDV8"
      },
      "execution_count": 36,
      "outputs": []
    },
    {
      "cell_type": "code",
      "source": [
        "print(accuracy_score(y_pred_nb, y_test))\n",
        "ConfusionMatrixDisplay.from_estimator(nb, X_test, y_test)\n",
        "print(classification_report(y_test, y_pred_nb))"
      ],
      "metadata": {
        "colab": {
          "base_uri": "https://localhost:8080/",
          "height": 453
        },
        "outputId": "6fd62a62-921d-4b1e-8f12-3f6b81d633cb",
        "id": "JhMJvtTZHDV8"
      },
      "execution_count": 37,
      "outputs": [
        {
          "output_type": "stream",
          "name": "stdout",
          "text": [
            "0.8491138625880068\n",
            "              precision    recall  f1-score   support\n",
            "\n",
            "          no       0.94      0.88      0.91      7303\n",
            "         yes       0.39      0.58      0.46       935\n",
            "\n",
            "    accuracy                           0.85      8238\n",
            "   macro avg       0.67      0.73      0.69      8238\n",
            "weighted avg       0.88      0.85      0.86      8238\n",
            "\n"
          ]
        },
        {
          "output_type": "display_data",
          "data": {
            "text/plain": [
              "<Figure size 432x288 with 2 Axes>"
            ],
            "image/png": "[encoded data removed]"
          },
          "metadata": {
            "needs_background": "light"
          }
        }
      ]
    },
    {
      "cell_type": "markdown",
      "source": [
        "Confusion Matrix diatas menunjukan hasil berikut: \n",
        "* 6455 True Negative (TN)\n",
        "* 848 False Positive (FP)\n",
        "* 395 False Negative (FN)\n",
        "* 540 True Positive (TP)"
      ],
      "metadata": {
        "id": "5oS9cyvgHDV8"
      }
    },
    {
      "cell_type": "markdown",
      "source": [
        "Pada bagian ini, saya menggunakan default model dari Naive Bayes dan tidak melakukan hyperparamater tuning."
      ],
      "metadata": {
        "id": "i06O7DfIHDV8"
      }
    },
    {
      "cell_type": "markdown",
      "source": [
        "Didapatkan akurasi sebesar 85.0% (0.8491138625880068) pada model Random Forest."
      ],
      "metadata": {
        "id": "BqIucSnpHDV8"
      }
    },
    {
      "cell_type": "markdown",
      "source": [
        "\n",
        "\n",
        "---\n",
        "\n"
      ],
      "metadata": {
        "id": "HiLbQyn1I9pP"
      }
    },
    {
      "cell_type": "markdown",
      "source": [
        "# **11. Kesimpulan**\n",
        "Tibalah kita pada akhir dari *notebook* ini. Berikut kesimpulan terkait beberapa *model* yang telah dicoba untuk melakukan klasifikasi dengan memakai Bank Marketing Dataset. \n",
        "\n",
        "Catatan: Dari semua *model* ini dilatih secara *default* atau tidak ada *hyperparameter tuning* pada semua *model* yang telah dicoba."
      ],
      "metadata": {
        "id": "u7mq6A9itf4Q"
      }
    },
    {
      "cell_type": "code",
      "source": [
        "print(f\"Logistic Regression: {accuracy_score(y_pred_lr, y_test)}\")\n",
        "print(f\"K-Nearest Neighbors: {accuracy_score(y_pred_knn, y_test)}\")\n",
        "print(f\"Support Vector Machine: {accuracy_score(y_pred_svm, y_test)}\")\n",
        "print(f\"Decision Tree: {accuracy_score(y_pred_dt, y_test)}\")\n",
        "print(f\"Random Forest: {accuracy_score(y_pred_rf, y_test)}\")\n",
        "print(f\"Naive Bayes: {accuracy_score(y_pred_nb, y_test)}\")"
      ],
      "metadata": {
        "colab": {
          "base_uri": "https://localhost:8080/"
        },
        "id": "QOMFru86J5oQ",
        "outputId": "9e91fbe0-2f19-4ed2-ef2f-4f2e3a01be6d"
      },
      "execution_count": 38,
      "outputs": [
        {
          "output_type": "stream",
          "name": "stdout",
          "text": [
            "Logistic Regression: 0.9115076474872542\n",
            "K-Nearest Neighbors: 0.898154891964069\n",
            "Support Vector Machine: 0.9090798737557659\n",
            "Decision Tree: 0.8846807477543093\n",
            "Random Forest: 0.9146637533381888\n",
            "Naive Bayes: 0.8491138625880068\n"
          ]
        }
      ]
    },
    {
      "cell_type": "markdown",
      "source": [
        "**Model dengan akurasi tertinggi**"
      ],
      "metadata": {
        "id": "g2rmodMEL_W9"
      }
    },
    {
      "cell_type": "markdown",
      "source": [
        "Dapat disimpulkan, **Random Forest** merupakan model dengan akurasi tertinggi untuk data ini. Mencatatkan akurasi dengan nilai 91.5%. Sangat berbeda tipis dengan model **Logistic Regression** yang mencatatkan akurasi sebesar 91.2%."
      ],
      "metadata": {
        "id": "8cYtNtfKMHzE"
      }
    },
    {
      "cell_type": "markdown",
      "source": [
        "**Model dengan akurasi terendah**"
      ],
      "metadata": {
        "id": "g2ZVregIMEm9"
      }
    },
    {
      "cell_type": "markdown",
      "source": [
        "Sedangkan, untuk model dengan akurasi terendah adalah **Naive Bayes**, yang merupakan model paling sederhana dari yang lainnya. Mencatatkan nilai 85.0%, yang bukan merupakan perbedaan signifikan dari model lainnya."
      ],
      "metadata": {
        "id": "wq7JP6FwNU5A"
      }
    },
    {
      "cell_type": "markdown",
      "source": [
        "Tetapi, dari semua ini masih banyak sekali kurangnya, karena dibutuhkan analisis dan pemodelan yang lebih lanjut lagi untuk menemukan insight menarik lainnya.\n",
        "\n",
        "---\n",
        "Sekian dari saya terima kasih!\n",
        "\n",
        "Salam hormat,\n",
        "\n",
        "Fikri Fahreza"
      ],
      "metadata": {
        "id": "MPOgpU7PJmA6"
      }
    }
  ]
}